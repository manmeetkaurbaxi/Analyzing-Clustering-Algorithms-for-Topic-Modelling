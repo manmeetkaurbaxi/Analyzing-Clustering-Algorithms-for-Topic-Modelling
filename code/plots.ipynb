{
 "cells": [
  {
   "cell_type": "code",
   "execution_count": null,
   "metadata": {},
   "outputs": [],
   "source": [
    "import pandas as pd\n",
    "import matplotlib.pyplot as plt\n",
    "import seaborn as sns\n",
    "\n",
    "plt.style.use('seaborn')"
   ]
  },
  {
   "cell_type": "code",
   "execution_count": null,
   "metadata": {},
   "outputs": [],
   "source": [
    "tfidf_mean_perf = pd.read_csv('../results/Finding optimal epochs/mean_performance/mean_performance-tfidf_kmeans.csv')\n",
    "doc2vec_mean_perf = pd.read_csv('../results/Finding optimal epochs/mean_performance/mean_performance-doc2vec_kmeans.csv')\n",
    "sbert_mean_perf = pd.read_csv('../results/Finding optimal epochs/mean_performance/mean_performance-sbert_kmeans.csv')"
   ]
  },
  {
   "cell_type": "code",
   "execution_count": null,
   "metadata": {},
   "outputs": [],
   "source": [
    "tfidf_mean_perf['feature-ext'] = 'TF-IDF'\n",
    "doc2vec_mean_perf['feature-ext'] = 'Doc2Vec'\n",
    "sbert_mean_perf['feature-ext'] = 'Sentence BERT'"
   ]
  },
  {
   "cell_type": "code",
   "execution_count": null,
   "metadata": {},
   "outputs": [],
   "source": [
    "mean_perf = pd.concat([tfidf_mean_perf, doc2vec_mean_perf, sbert_mean_perf], ignore_index=True)"
   ]
  },
  {
   "cell_type": "code",
   "execution_count": null,
   "metadata": {},
   "outputs": [],
   "source": [
    "plt.figure(figsize=(15,8))\n",
    "fig = sns.lineplot(data=mean_perf, x='epoch', y='AMI', hue='feature-ext', ci=0.90)\n",
    "plt.legend(bbox_to_anchor=(0.9, 0.20), loc='center', title='Embedding techniques', borderaxespad=0)\n",
    "plt.title('AMI by epoch')\n",
    "plt.savefig('../results/Finding optimal epochs/plots/AMI by epoch.pdf', dpi=300, bbox_inches='tight')"
   ]
  },
  {
   "cell_type": "code",
   "execution_count": null,
   "metadata": {},
   "outputs": [],
   "source": [
    "plt.figure(figsize=(15,8))\n",
    "fig = sns.lineplot(data=mean_perf, x='epoch', y='ARI', hue='feature-ext', ci=0.90)\n",
    "plt.legend(bbox_to_anchor=(0.9, 0.20), loc='center', title='Embedding techniques', borderaxespad=0)\n",
    "plt.title('ARI by epoch')\n",
    "plt.savefig('../results/Finding optimal epochs/plots/ARI by epoch.pdf', dpi=300, bbox_inches='tight')"
   ]
  },
  {
   "cell_type": "code",
   "execution_count": null,
   "metadata": {},
   "outputs": [],
   "source": [
    "plt.figure(figsize=(15,8))\n",
    "fig = sns.lineplot(data=mean_perf, x='epoch', y='NMI', hue='feature-ext', ci=0.90)\n",
    "plt.legend(bbox_to_anchor=(0.9, 0.20), loc='center', title='Embedding techniques', borderaxespad=0)\n",
    "plt.title('NMI by epoch')\n",
    "plt.savefig('../results/Finding optimal epochs/plots/NMI by epoch.pdf', dpi=300, bbox_inches='tight')"
   ]
  },
  {
   "cell_type": "code",
   "execution_count": null,
   "metadata": {},
   "outputs": [],
   "source": [
    "# Maximum values for each of the embeddings\n",
    "print('TF-IDF')\n",
    "max_index = tfidf_mean_perf[['AMI','ARI','NMI']].idxmax() \n",
    "print(tfidf_mean_perf.loc[max_index])\n",
    "\n",
    "print('Doc2Vec')\n",
    "max_index = doc2vec_mean_perf[['AMI','ARI','NMI']].idxmax() \n",
    "print(doc2vec_mean_perf.loc[max_index])\n",
    "\n",
    "print('Sentence BERT')\n",
    "max_index = sbert_mean_perf[['AMI','ARI','NMI']].idxmax() \n",
    "print(sbert_mean_perf.loc[max_index])"
   ]
  },
  {
   "cell_type": "code",
   "execution_count": null,
   "metadata": {},
   "outputs": [],
   "source": []
  }
 ],
 "metadata": {
  "interpreter": {
   "hash": "bda89cad9a35062bfe0e2c3265283126a05587ce658520b830e4f64500a7ea1e"
  },
  "kernelspec": {
   "display_name": "Python 3.8.5 64-bit",
   "language": "python",
   "name": "python3"
  },
  "language_info": {
   "codemirror_mode": {
    "name": "ipython",
    "version": 3
   },
   "file_extension": ".py",
   "mimetype": "text/x-python",
   "name": "python",
   "nbconvert_exporter": "python",
   "pygments_lexer": "ipython3",
   "version": "3.8.5"
  },
  "orig_nbformat": 4
 },
 "nbformat": 4,
 "nbformat_minor": 2
}
