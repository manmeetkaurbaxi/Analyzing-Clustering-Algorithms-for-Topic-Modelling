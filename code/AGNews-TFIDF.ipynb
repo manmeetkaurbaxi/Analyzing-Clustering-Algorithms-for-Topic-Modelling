{
  "cells": [
    {
      "cell_type": "code",
      "execution_count": 17,
      "metadata": {
        "id": "FDcqm4OWZlVI"
      },
      "outputs": [],
      "source": [
        "import gensim\n",
        "import numpy as np\n",
        "import pandas as pd\n",
        "from sklearn.cluster import KMeans\n",
        "from sklearn.feature_extraction.text import TfidfVectorizer\n",
        "from sklearn import metrics\n",
        "import tqdm\n",
        "import nltk\n",
        "import re\n",
        "from operator import itemgetter\n",
        "import ast"
      ]
    },
    {
      "cell_type": "code",
      "execution_count": 2,
      "metadata": {
        "colab": {
          "base_uri": "https://localhost:8080/"
        },
        "id": "IW6AZR-iawT2",
        "outputId": "a25d706d-c5ce-403c-d60c-86fefb92f32a"
      },
      "outputs": [
        {
          "name": "stderr",
          "output_type": "stream",
          "text": [
            "[nltk_data] Downloading package punkt to\n",
            "[nltk_data]     C:\\Users\\mbaxi\\AppData\\Roaming\\nltk_data...\n",
            "[nltk_data]   Package punkt is already up-to-date!\n",
            "[nltk_data] Downloading package wordnet to\n",
            "[nltk_data]     C:\\Users\\mbaxi\\AppData\\Roaming\\nltk_data...\n",
            "[nltk_data]   Package wordnet is already up-to-date!\n",
            "[nltk_data] Downloading package stopwords to\n",
            "[nltk_data]     C:\\Users\\mbaxi\\AppData\\Roaming\\nltk_data...\n",
            "[nltk_data]   Package stopwords is already up-to-date!\n"
          ]
        },
        {
          "data": {
            "text/plain": [
              "True"
            ]
          },
          "execution_count": 2,
          "metadata": {},
          "output_type": "execute_result"
        }
      ],
      "source": [
        "nltk.download('punkt')\n",
        "nltk.download('wordnet')\n",
        "nltk.download('stopwords')"
      ]
    },
    {
      "cell_type": "code",
      "execution_count": 3,
      "metadata": {},
      "outputs": [],
      "source": [
        "def preprocess_text(sentence):\n",
        "    # Lowercase\n",
        "    sentence = sentence.lower()\n",
        "    \n",
        "    # Remove all non-alphabets (punctuation, numbers, new-line characters and extra-spaces)\n",
        "    sentence = re.sub(r'[^a-zA-Z]+', ' ', sentence)\n",
        "    sentence = sentence.replace('\\n', '')\n",
        "    # sentence = re.sub('\\s\\s+', ' ', sentence)\n",
        "    \n",
        "    # Tokenize & remove stop-words\n",
        "    word_list = nltk.word_tokenize(sentence)    \n",
        "    stopwords_list = set(nltk.corpus.stopwords.words('english'))\n",
        "    word_list = [word for word in word_list if word not in stopwords_list]\n",
        "    \n",
        "    # Remove very small words, length < 3, they don't contribute any useful information\n",
        "    word_list = [word for word in word_list if len(word) > 3]\n",
        "        \n",
        "    # Stem & Lemmatize\n",
        "    porter_stemmer = nltk.stem.PorterStemmer()\n",
        "    lemmatizer = nltk.stem.WordNetLemmatizer()\n",
        "    word_list = [porter_stemmer.stem(word) for word in word_list]\n",
        "    word_list = [lemmatizer.lemmatize(word) for word in word_list]\n",
        "    \n",
        "    sentence = ' '.join(word_list)\n",
        "    \n",
        "    return sentence"
      ]
    },
    {
      "cell_type": "markdown",
      "metadata": {
        "id": "V_dcMbS0ZlVJ"
      },
      "source": [
        "## Load Data"
      ]
    },
    {
      "cell_type": "code",
      "execution_count": 4,
      "metadata": {
        "id": "F0iINKWiZlVK"
      },
      "outputs": [],
      "source": [
        "train_df = pd.read_csv('../data/ag_news/train.csv')\n",
        "test_df = pd.read_csv('../data/ag_news/test.csv')"
      ]
    },
    {
      "cell_type": "code",
      "execution_count": 5,
      "metadata": {
        "colab": {
          "base_uri": "https://localhost:8080/"
        },
        "id": "xE3_--WYZlVK",
        "outputId": "b14f9114-09c2-4c1c-bd25-3ef4ddfc955f"
      },
      "outputs": [
        {
          "data": {
            "text/plain": [
              "Index(['class', 'title', 'description'], dtype='object')"
            ]
          },
          "execution_count": 5,
          "metadata": {},
          "output_type": "execute_result"
        }
      ],
      "source": [
        "train_df.columns"
      ]
    },
    {
      "cell_type": "code",
      "execution_count": 6,
      "metadata": {
        "id": "n_zN6GybZlVL"
      },
      "outputs": [],
      "source": [
        "for index, row in train_df.iterrows():\n",
        "    if row['class'] == 1:\n",
        "        train_df.at[index, 'topic'] = 'World'\n",
        "    elif row['class'] == 2:\n",
        "        train_df.at[index, 'topic'] = 'Sports'\n",
        "    elif row['class'] == 3:\n",
        "        train_df.at[index, 'topic'] = 'Business'\n",
        "    else:\n",
        "        train_df.at[index, 'topic'] = 'Sci/Tech'\n",
        "\n",
        "for index, row in test_df.iterrows():\n",
        "    if row['class'] == 1:\n",
        "        test_df.at[index, 'topic'] = 'World'\n",
        "    elif row['class'] == 2:\n",
        "        test_df.at[index, 'topic'] = 'Sports'\n",
        "    elif row['class'] == 3:\n",
        "        test_df.at[index, 'topic'] = 'Business'\n",
        "    else:\n",
        "        test_df.at[index, 'topic'] = 'Sci/Tech'"
      ]
    },
    {
      "cell_type": "code",
      "execution_count": 7,
      "metadata": {
        "id": "qcUd850GZlVM"
      },
      "outputs": [],
      "source": [
        "# Checking the average length of news article for each class\n",
        "train_avg_len_by_class = (train_df.groupby('topic')['description'].apply(lambda x: np.mean(x.str.len())).reset_index(name='avg_news_len'))\n",
        "test_avg_len_by_class = (test_df.groupby('topic')['description'].apply(lambda x: np.mean(x.str.len())).reset_index(name='avg_news_len'))"
      ]
    },
    {
      "cell_type": "code",
      "execution_count": 8,
      "metadata": {
        "colab": {
          "base_uri": "https://localhost:8080/",
          "height": 175
        },
        "id": "mflDRUIHZlVM",
        "outputId": "a5a3624d-134b-4c10-af22-eb1433136f98"
      },
      "outputs": [
        {
          "data": {
            "text/html": [
              "<div>\n",
              "<style scoped>\n",
              "    .dataframe tbody tr th:only-of-type {\n",
              "        vertical-align: middle;\n",
              "    }\n",
              "\n",
              "    .dataframe tbody tr th {\n",
              "        vertical-align: top;\n",
              "    }\n",
              "\n",
              "    .dataframe thead th {\n",
              "        text-align: right;\n",
              "    }\n",
              "</style>\n",
              "<table border=\"1\" class=\"dataframe\">\n",
              "  <thead>\n",
              "    <tr style=\"text-align: right;\">\n",
              "      <th></th>\n",
              "      <th>topic</th>\n",
              "      <th>avg_news_len</th>\n",
              "    </tr>\n",
              "  </thead>\n",
              "  <tbody>\n",
              "    <tr>\n",
              "      <th>0</th>\n",
              "      <td>Business</td>\n",
              "      <td>198.690267</td>\n",
              "    </tr>\n",
              "    <tr>\n",
              "      <th>1</th>\n",
              "      <td>Sci/Tech</td>\n",
              "      <td>193.852533</td>\n",
              "    </tr>\n",
              "    <tr>\n",
              "      <th>2</th>\n",
              "      <td>Sports</td>\n",
              "      <td>185.171367</td>\n",
              "    </tr>\n",
              "    <tr>\n",
              "      <th>3</th>\n",
              "      <td>World</td>\n",
              "      <td>195.893900</td>\n",
              "    </tr>\n",
              "  </tbody>\n",
              "</table>\n",
              "</div>"
            ],
            "text/plain": [
              "      topic  avg_news_len\n",
              "0  Business    198.690267\n",
              "1  Sci/Tech    193.852533\n",
              "2    Sports    185.171367\n",
              "3     World    195.893900"
            ]
          },
          "execution_count": 8,
          "metadata": {},
          "output_type": "execute_result"
        }
      ],
      "source": [
        "train_avg_len_by_class"
      ]
    },
    {
      "cell_type": "code",
      "execution_count": 9,
      "metadata": {
        "colab": {
          "base_uri": "https://localhost:8080/",
          "height": 175
        },
        "id": "dCFt8A6IZlVM",
        "outputId": "ff4408c6-29fd-4531-b7ef-d90a0321705b"
      },
      "outputs": [
        {
          "data": {
            "text/html": [
              "<div>\n",
              "<style scoped>\n",
              "    .dataframe tbody tr th:only-of-type {\n",
              "        vertical-align: middle;\n",
              "    }\n",
              "\n",
              "    .dataframe tbody tr th {\n",
              "        vertical-align: top;\n",
              "    }\n",
              "\n",
              "    .dataframe thead th {\n",
              "        text-align: right;\n",
              "    }\n",
              "</style>\n",
              "<table border=\"1\" class=\"dataframe\">\n",
              "  <thead>\n",
              "    <tr style=\"text-align: right;\">\n",
              "      <th></th>\n",
              "      <th>topic</th>\n",
              "      <th>avg_news_len</th>\n",
              "    </tr>\n",
              "  </thead>\n",
              "  <tbody>\n",
              "    <tr>\n",
              "      <th>0</th>\n",
              "      <td>Business</td>\n",
              "      <td>197.831053</td>\n",
              "    </tr>\n",
              "    <tr>\n",
              "      <th>1</th>\n",
              "      <td>Sci/Tech</td>\n",
              "      <td>193.951579</td>\n",
              "    </tr>\n",
              "    <tr>\n",
              "      <th>2</th>\n",
              "      <td>Sports</td>\n",
              "      <td>183.838947</td>\n",
              "    </tr>\n",
              "    <tr>\n",
              "      <th>3</th>\n",
              "      <td>World</td>\n",
              "      <td>194.010526</td>\n",
              "    </tr>\n",
              "  </tbody>\n",
              "</table>\n",
              "</div>"
            ],
            "text/plain": [
              "      topic  avg_news_len\n",
              "0  Business    197.831053\n",
              "1  Sci/Tech    193.951579\n",
              "2    Sports    183.838947\n",
              "3     World    194.010526"
            ]
          },
          "execution_count": 9,
          "metadata": {},
          "output_type": "execute_result"
        }
      ],
      "source": [
        "test_avg_len_by_class"
      ]
    },
    {
      "cell_type": "code",
      "execution_count": 10,
      "metadata": {
        "colab": {
          "base_uri": "https://localhost:8080/"
        },
        "id": "vxYbdpNGZlVM",
        "outputId": "f8610076-90a0-4967-99b2-3698123842ee"
      },
      "outputs": [
        {
          "name": "stderr",
          "output_type": "stream",
          "text": [
            "100%|██████████| 120000/120000 [01:49<00:00, 1093.81it/s]\n",
            "100%|██████████| 7600/7600 [00:07<00:00, 1071.83it/s]\n"
          ]
        }
      ],
      "source": [
        "# Preprocess the news description\n",
        "tqdm.tqdm.pandas()\n",
        "train_df['news_tokenized'] = train_df['description'].progress_apply(lambda x: preprocess_text(str(x)))\n",
        "test_df['news_tokenized'] = test_df['description'].progress_apply(lambda x: preprocess_text(str(x)))"
      ]
    },
    {
      "cell_type": "markdown",
      "metadata": {
        "id": "ypYh0thkZlVN"
      },
      "source": [
        "### TF-IDF"
      ]
    },
    {
      "cell_type": "code",
      "execution_count": 11,
      "metadata": {
        "id": "LvzATJ5tZlVN"
      },
      "outputs": [],
      "source": [
        "tf_idfvectorizer = TfidfVectorizer(strip_accents='unicode', stop_words='english', min_df=2)\n",
        "x_train_tfidf = tf_idfvectorizer.fit_transform(train_df.news_tokenized)\n",
        "x_test_tfidf = tf_idfvectorizer.transform(test_df.news_tokenized)"
      ]
    },
    {
      "cell_type": "markdown",
      "metadata": {},
      "source": [
        "### K-Means"
      ]
    },
    {
      "cell_type": "code",
      "execution_count": 12,
      "metadata": {
        "id": "NzlAuf1oZlVN"
      },
      "outputs": [],
      "source": [
        "performance_metrics = pd.DataFrame(columns=['feature-extraction','clustering-algo', 'run#', 'state', 'AMI','ARI','NMI'])"
      ]
    },
    {
      "cell_type": "code",
      "execution_count": 13,
      "metadata": {
        "colab": {
          "base_uri": "https://localhost:8080/"
        },
        "id": "bwXhqC1QZlVO",
        "outputId": "69fe07dd-0c4a-4135-f877-91dad63b24e4"
      },
      "outputs": [],
      "source": [
        "for run, state in zip(range(1, 22, 1), range(2, 40, 2)):\n",
        "    print('Run #', run)\n",
        "    \n",
        "    k_means = KMeans(n_clusters=4, init='k-means++', max_iter=85, random_state=state)\n",
        "    k_means.fit(x_train_tfidf)\n",
        "    \n",
        "    pred_labels = k_means.predict(x_test_tfidf)\n",
        "        \n",
        "    ami = metrics.adjusted_mutual_info_score(test_df['class'], pred_labels)\n",
        "    ari = metrics.adjusted_rand_score(test_df['class'], pred_labels)\n",
        "    nmi = metrics.normalized_mutual_info_score(test_df['class'], pred_labels)\n",
        "        \n",
        "    performance_metrics = performance_metrics.append({'feature-extraction':'tf-idf', 'clustering-algo':'k-means', 'run#':run, 'state':state, 'AMI':ami, 'ARI': ari, 'NMI':nmi}, ignore_index=True)\n",
        "    # break"
      ]
    },
    {
      "cell_type": "markdown",
      "metadata": {},
      "source": [
        "### NMF"
      ]
    },
    {
      "cell_type": "code",
      "execution_count": 14,
      "metadata": {},
      "outputs": [],
      "source": [
        "train_documents = train_df['news_tokenized'].str.split()\n",
        "dictionary = gensim.corpora.Dictionary(train_documents)\n",
        "dictionary.filter_extremes(no_below=5, no_above=0.5, keep_n=20000)\n",
        "\n",
        "test_documents = test_df['news_tokenized'].str.split()\n",
        "\n",
        "tfidf_model = gensim.models.TfidfModel(dictionary=dictionary)\n",
        "\n",
        "train_corpus = [dictionary.doc2bow(document) for document in train_documents]\n",
        "test_corpus = [dictionary.doc2bow(document) for document in test_documents]\n",
        "\n",
        "train_corpus_tfidf = list(tfidf_model[train_corpus])\n",
        "test_corpus_tfidf = list(tfidf_model[test_corpus])"
      ]
    },
    {
      "cell_type": "code",
      "execution_count": null,
      "metadata": {},
      "outputs": [],
      "source": [
        "for run, state in zip(range(1, 22, 1), range(2, 40, 2)):\n",
        "    print('Run #', run)\n",
        "    \n",
        "    gensim_nmf = gensim.models.Nmf(corpus=train_corpus_tfidf, num_topics=4, id2word=dictionary, chunksize=1000, passes=5, eval_every=10, minimum_probability=0, random_state=0, kappa=1)\n",
        "    \n",
        "    pred_labels = []\n",
        "    for test_doc in test_corpus_tfidf:\n",
        "        pred_label = max(gensim_nmf[test_doc], key=itemgetter(1))[0]\n",
        "        pred_labels.append(pred_label)\n",
        "        \n",
        "    ami = metrics.adjusted_mutual_info_score(test_df['class'], pred_labels)\n",
        "    ari = metrics.adjusted_rand_score(test_df['class'], pred_labels)\n",
        "    nmi = metrics.normalized_mutual_info_score(test_df['class'], pred_labels)\n",
        "        \n",
        "    performance_metrics = performance_metrics.append({'feature-extraction':'tf-idf', 'clustering-algo':'NMF', 'run#':run, 'state':state, 'AMI':ami, 'ARI': ari, 'NMI':nmi}, ignore_index=True)\n",
        "    # break"
      ]
    },
    {
      "cell_type": "code",
      "execution_count": null,
      "metadata": {},
      "outputs": [],
      "source": []
    }
  ],
  "metadata": {
    "accelerator": "GPU",
    "colab": {
      "name": "AGNews.ipynb",
      "provenance": []
    },
    "interpreter": {
      "hash": "bda89cad9a35062bfe0e2c3265283126a05587ce658520b830e4f64500a7ea1e"
    },
    "kernelspec": {
      "display_name": "Python 3.8.5 64-bit",
      "language": "python",
      "name": "python3"
    },
    "language_info": {
      "codemirror_mode": {
        "name": "ipython",
        "version": 3
      },
      "file_extension": ".py",
      "mimetype": "text/x-python",
      "name": "python",
      "nbconvert_exporter": "python",
      "pygments_lexer": "ipython3",
      "version": "3.8.5"
    },
    "orig_nbformat": 4
  },
  "nbformat": 4,
  "nbformat_minor": 0
}
