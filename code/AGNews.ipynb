{
 "cells": [
  {
   "cell_type": "code",
   "execution_count": 13,
   "metadata": {},
   "outputs": [],
   "source": [
    "import gensim\n",
    "import numpy as np\n",
    "import pandas as pd\n",
    "import plotly.express as px\n",
    "from sklearn.cluster import KMeans\n",
    "from sklearn.feature_extraction.text import TfidfVectorizer\n",
    "from sklearn import metrics\n",
    "import tqdm\n",
    "from utils import *"
   ]
  },
  {
   "cell_type": "markdown",
   "metadata": {},
   "source": [
    "## Load Data"
   ]
  },
  {
   "cell_type": "code",
   "execution_count": 2,
   "metadata": {},
   "outputs": [],
   "source": [
    "train_df = pd.read_csv('../data/ag_news/train.csv')\n",
    "test_df = pd.read_csv('../data/ag_news/test.csv')"
   ]
  },
  {
   "cell_type": "code",
   "execution_count": 3,
   "metadata": {},
   "outputs": [
    {
     "data": {
      "text/plain": [
       "Index(['class', 'title', 'description'], dtype='object')"
      ]
     },
     "execution_count": 3,
     "metadata": {},
     "output_type": "execute_result"
    }
   ],
   "source": [
    "train_df.columns"
   ]
  },
  {
   "cell_type": "code",
   "execution_count": 4,
   "metadata": {},
   "outputs": [],
   "source": [
    "for index, row in train_df.iterrows():\n",
    "    if row['class'] == 1:\n",
    "        train_df.at[index, 'topic'] = 'World'\n",
    "    elif row['class'] == 2:\n",
    "        train_df.at[index, 'topic'] = 'Sports'\n",
    "    elif row['class'] == 3:\n",
    "        train_df.at[index, 'topic'] = 'Business'\n",
    "    else:\n",
    "        train_df.at[index, 'topic'] = 'Sci/Tech'"
   ]
  },
  {
   "cell_type": "code",
   "execution_count": 5,
   "metadata": {},
   "outputs": [],
   "source": [
    "for index, row in test_df.iterrows():\n",
    "    if row['class'] == 1:\n",
    "        test_df.at[index, 'topic'] = 'World'\n",
    "    elif row['class'] == 2:\n",
    "        test_df.at[index, 'topic'] = 'Sports'\n",
    "    elif row['class'] == 3:\n",
    "        test_df.at[index, 'topic'] = 'Business'\n",
    "    else:\n",
    "        test_df.at[index, 'topic'] = 'Sci/Tech'"
   ]
  },
  {
   "cell_type": "code",
   "execution_count": null,
   "metadata": {},
   "outputs": [],
   "source": [
    "# Plots to check distribution of classes in the datasets\n",
    "fig_train = px.bar(train_df, x=train_df['topic'].value_counts().index, y=train_df['topic'].value_counts().values, color=train_df['topic'].value_counts().index, \n",
    "                   title='Distribution of topics in training dataset', width=1100, height=500,\n",
    "                   labels={\n",
    "                       'x':'Topic', 'y':'Number of News Articles','color':'Topic'\n",
    "                   })\n",
    "fig_train.show()\n",
    "fig_train.write_image('../results/EDA/topic-dist-train.pdf', engine='kaleido')\n",
    "\n",
    "fig_test = px.bar(test_df, x=test_df['topic'].value_counts().index, y=test_df['topic'].value_counts().values, color=test_df['topic'].value_counts().index, \n",
    "                   title='Distribution of topics in testing dataset', width=1100, height=500,\n",
    "                   labels={\n",
    "                       'x':'Topic', 'y':'Number of News Articles','color':'Topic'\n",
    "                   })\n",
    "fig_test.show()\n",
    "fig_test.write_image('../results/EDA/topic-dist-test.pdf', engine='kaleido')"
   ]
  },
  {
   "cell_type": "code",
   "execution_count": 6,
   "metadata": {},
   "outputs": [],
   "source": [
    "# Checking the average length of news article for each class\n",
    "train_avg_len_by_class = (train_df.groupby('topic')['description'].apply(lambda x: np.mean(x.str.len())).reset_index(name='avg_news_len'))\n",
    "test_avg_len_by_class = (test_df.groupby('topic')['description'].apply(lambda x: np.mean(x.str.len())).reset_index(name='avg_news_len'))"
   ]
  },
  {
   "cell_type": "code",
   "execution_count": 7,
   "metadata": {},
   "outputs": [
    {
     "data": {
      "text/html": [
       "<div>\n",
       "<style scoped>\n",
       "    .dataframe tbody tr th:only-of-type {\n",
       "        vertical-align: middle;\n",
       "    }\n",
       "\n",
       "    .dataframe tbody tr th {\n",
       "        vertical-align: top;\n",
       "    }\n",
       "\n",
       "    .dataframe thead th {\n",
       "        text-align: right;\n",
       "    }\n",
       "</style>\n",
       "<table border=\"1\" class=\"dataframe\">\n",
       "  <thead>\n",
       "    <tr style=\"text-align: right;\">\n",
       "      <th></th>\n",
       "      <th>topic</th>\n",
       "      <th>avg_news_len</th>\n",
       "    </tr>\n",
       "  </thead>\n",
       "  <tbody>\n",
       "    <tr>\n",
       "      <th>0</th>\n",
       "      <td>Business</td>\n",
       "      <td>198.690267</td>\n",
       "    </tr>\n",
       "    <tr>\n",
       "      <th>1</th>\n",
       "      <td>Sci/Tech</td>\n",
       "      <td>193.852533</td>\n",
       "    </tr>\n",
       "    <tr>\n",
       "      <th>2</th>\n",
       "      <td>Sports</td>\n",
       "      <td>185.171367</td>\n",
       "    </tr>\n",
       "    <tr>\n",
       "      <th>3</th>\n",
       "      <td>World</td>\n",
       "      <td>195.893900</td>\n",
       "    </tr>\n",
       "  </tbody>\n",
       "</table>\n",
       "</div>"
      ],
      "text/plain": [
       "      topic  avg_news_len\n",
       "0  Business    198.690267\n",
       "1  Sci/Tech    193.852533\n",
       "2    Sports    185.171367\n",
       "3     World    195.893900"
      ]
     },
     "execution_count": 7,
     "metadata": {},
     "output_type": "execute_result"
    }
   ],
   "source": [
    "train_avg_len_by_class"
   ]
  },
  {
   "cell_type": "code",
   "execution_count": 8,
   "metadata": {},
   "outputs": [
    {
     "data": {
      "text/html": [
       "<div>\n",
       "<style scoped>\n",
       "    .dataframe tbody tr th:only-of-type {\n",
       "        vertical-align: middle;\n",
       "    }\n",
       "\n",
       "    .dataframe tbody tr th {\n",
       "        vertical-align: top;\n",
       "    }\n",
       "\n",
       "    .dataframe thead th {\n",
       "        text-align: right;\n",
       "    }\n",
       "</style>\n",
       "<table border=\"1\" class=\"dataframe\">\n",
       "  <thead>\n",
       "    <tr style=\"text-align: right;\">\n",
       "      <th></th>\n",
       "      <th>topic</th>\n",
       "      <th>avg_news_len</th>\n",
       "    </tr>\n",
       "  </thead>\n",
       "  <tbody>\n",
       "    <tr>\n",
       "      <th>0</th>\n",
       "      <td>Business</td>\n",
       "      <td>197.831053</td>\n",
       "    </tr>\n",
       "    <tr>\n",
       "      <th>1</th>\n",
       "      <td>Sci/Tech</td>\n",
       "      <td>193.951579</td>\n",
       "    </tr>\n",
       "    <tr>\n",
       "      <th>2</th>\n",
       "      <td>Sports</td>\n",
       "      <td>183.838947</td>\n",
       "    </tr>\n",
       "    <tr>\n",
       "      <th>3</th>\n",
       "      <td>World</td>\n",
       "      <td>194.010526</td>\n",
       "    </tr>\n",
       "  </tbody>\n",
       "</table>\n",
       "</div>"
      ],
      "text/plain": [
       "      topic  avg_news_len\n",
       "0  Business    197.831053\n",
       "1  Sci/Tech    193.951579\n",
       "2    Sports    183.838947\n",
       "3     World    194.010526"
      ]
     },
     "execution_count": 8,
     "metadata": {},
     "output_type": "execute_result"
    }
   ],
   "source": [
    "test_avg_len_by_class"
   ]
  },
  {
   "cell_type": "code",
   "execution_count": 9,
   "metadata": {},
   "outputs": [
    {
     "name": "stderr",
     "output_type": "stream",
     "text": [
      "100%|██████████| 120000/120000 [01:45<00:00, 1137.71it/s]\n",
      "100%|██████████| 7600/7600 [00:06<00:00, 1230.77it/s]\n"
     ]
    }
   ],
   "source": [
    "# Preprocess the news description\n",
    "tqdm.tqdm.pandas()\n",
    "train_df['news_tokenized'] = train_df['description'].progress_apply(lambda x: preprocess_text(str(x)))\n",
    "test_df['news_tokenized'] = test_df['description'].progress_apply(lambda x: preprocess_text(str(x)))"
   ]
  },
  {
   "cell_type": "markdown",
   "metadata": {},
   "source": [
    "## Feature Representations"
   ]
  },
  {
   "cell_type": "markdown",
   "metadata": {},
   "source": [
    "### TF-IDF"
   ]
  },
  {
   "cell_type": "code",
   "execution_count": 10,
   "metadata": {},
   "outputs": [],
   "source": [
    "tf_idfvectorizer = TfidfVectorizer(strip_accents='unicode', stop_words='english', min_df=2) ## Corpus is in English\n",
    "x_tfidf = tf_idfvectorizer.fit_transform(train_df.news_tokenized)"
   ]
  },
  {
   "cell_type": "code",
   "execution_count": 11,
   "metadata": {},
   "outputs": [
    {
     "data": {
      "text/plain": [
       "KMeans(max_iter=100, n_clusters=4)"
      ]
     },
     "execution_count": 11,
     "metadata": {},
     "output_type": "execute_result"
    }
   ],
   "source": [
    "k_means = KMeans(n_clusters=4, init='k-means++', max_iter=100)\n",
    "k_means.fit(x_tfidf)"
   ]
  },
  {
   "cell_type": "code",
   "execution_count": 16,
   "metadata": {},
   "outputs": [
    {
     "name": "stdout",
     "output_type": "stream",
     "text": [
      "Adjusted Rand-Index: 0.122\n",
      "Normalized Mutual Information Score: 0.237\n",
      "Adjusted Mutual Information Score: 0.237\n"
     ]
    }
   ],
   "source": [
    "print(\"Adjusted Rand-Index: %.3f\"% metrics.adjusted_rand_score(train_df.topic, k_means.labels_))\n",
    "print(\"Normalized Mutual Information Score: %.3f\"% metrics.normalized_mutual_info_score(train_df.topic, k_means.labels_))\n",
    "print(\"Adjusted Mutual Information Score: %.3f\"% metrics.adjusted_mutual_info_score(train_df.topic, k_means.labels_))"
   ]
  },
  {
   "cell_type": "code",
   "execution_count": 17,
   "metadata": {},
   "outputs": [],
   "source": [
    "from sklearn.pipeline import Pipeline\n",
    "text_clf = Pipeline([('tfidf', TfidfVectorizer()), ('kmeans', KMeans(n_clusters=4, init='k-means++', max_iter=100))])"
   ]
  },
  {
   "cell_type": "code",
   "execution_count": null,
   "metadata": {},
   "outputs": [],
   "source": []
  }
 ],
 "metadata": {
  "interpreter": {
   "hash": "bda89cad9a35062bfe0e2c3265283126a05587ce658520b830e4f64500a7ea1e"
  },
  "kernelspec": {
   "display_name": "Python 3.8.5 64-bit",
   "language": "python",
   "name": "python3"
  },
  "language_info": {
   "codemirror_mode": {
    "name": "ipython",
    "version": 3
   },
   "file_extension": ".py",
   "mimetype": "text/x-python",
   "name": "python",
   "nbconvert_exporter": "python",
   "pygments_lexer": "ipython3",
   "version": "3.8.5"
  },
  "orig_nbformat": 4
 },
 "nbformat": 4,
 "nbformat_minor": 2
}
