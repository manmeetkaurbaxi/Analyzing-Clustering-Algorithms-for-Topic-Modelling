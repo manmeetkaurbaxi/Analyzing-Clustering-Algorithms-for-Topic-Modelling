{
  "cells": [
    {
      "cell_type": "code",
      "execution_count": null,
      "metadata": {},
      "outputs": [],
      "source": [
        "# !pip install gensim --upgrade -q"
      ]
    },
    {
      "cell_type": "code",
      "execution_count": null,
      "metadata": {
        "id": "FDcqm4OWZlVI"
      },
      "outputs": [],
      "source": [
        "import gensim\n",
        "import numpy as np\n",
        "import pandas as pd\n",
        "from sklearn.cluster import KMeans\n",
        "from sklearn import metrics\n",
        "import tqdm\n",
        "import nltk\n",
        "import re\n",
        "import time\n",
        "\n",
        "EPOCHS = 40\n",
        "TOPICS = 4\n",
        "CHUNK_SIZE = 1000\n",
        "WORKERS = 7\n",
        "EVAL_PERIOD = 10"
      ]
    },
    {
      "cell_type": "code",
      "execution_count": null,
      "metadata": {
        "colab": {
          "base_uri": "https://localhost:8080/"
        },
        "id": "IW6AZR-iawT2",
        "outputId": "a25d706d-c5ce-403c-d60c-86fefb92f32a"
      },
      "outputs": [],
      "source": [
        "nltk.download('punkt')\n",
        "nltk.download('wordnet')\n",
        "nltk.download('stopwords')"
      ]
    },
    {
      "cell_type": "code",
      "execution_count": null,
      "metadata": {},
      "outputs": [],
      "source": [
        "def preprocess_text(sentence):\n",
        "    # Lowercase\n",
        "    sentence = sentence.lower()\n",
        "    \n",
        "    # Remove all non-alphabets (punctuation, numbers, new-line characters and extra-spaces)\n",
        "    sentence = re.sub(r'[^a-zA-Z]+', ' ', sentence)\n",
        "    sentence = sentence.replace('\\n', '')\n",
        "    # sentence = re.sub('\\s\\s+', ' ', sentence)\n",
        "    \n",
        "    # Tokenize & remove stop-words\n",
        "    word_list = nltk.word_tokenize(sentence)    \n",
        "    stopwords_list = set(nltk.corpus.stopwords.words('english'))\n",
        "    word_list = [word for word in word_list if word not in stopwords_list]\n",
        "    \n",
        "    # Remove very small words, length < 3, they don't contribute any useful information\n",
        "    word_list = [word for word in word_list if len(word) > 3]\n",
        "        \n",
        "    # Stem & Lemmatize\n",
        "    porter_stemmer = nltk.stem.PorterStemmer()\n",
        "    lemmatizer = nltk.stem.WordNetLemmatizer()\n",
        "    word_list = [porter_stemmer.stem(word) for word in word_list]\n",
        "    word_list = [lemmatizer.lemmatize(word) for word in word_list]\n",
        "    \n",
        "    sentence = ' '.join(word_list)\n",
        "    \n",
        "    return sentence"
      ]
    },
    {
      "cell_type": "markdown",
      "metadata": {
        "id": "V_dcMbS0ZlVJ"
      },
      "source": [
        "## Load Data"
      ]
    },
    {
      "cell_type": "code",
      "execution_count": null,
      "metadata": {
        "id": "F0iINKWiZlVK"
      },
      "outputs": [],
      "source": [
        "train_df = pd.read_csv('../../data/ag_news/train.csv')\n",
        "test_df = pd.read_csv('../../data/ag_news/test.csv')"
      ]
    },
    {
      "cell_type": "code",
      "execution_count": null,
      "metadata": {
        "id": "n_zN6GybZlVL"
      },
      "outputs": [],
      "source": [
        "for index, row in train_df.iterrows():\n",
        "    if row['class'] == 1:\n",
        "        train_df.at[index, 'topic'] = 'World'\n",
        "    elif row['class'] == 2:\n",
        "        train_df.at[index, 'topic'] = 'Sports'\n",
        "    elif row['class'] == 3:\n",
        "        train_df.at[index, 'topic'] = 'Business'\n",
        "    else:\n",
        "        train_df.at[index, 'topic'] = 'Sci/Tech'\n",
        "\n",
        "for index, row in test_df.iterrows():\n",
        "    if row['class'] == 1:\n",
        "        test_df.at[index, 'topic'] = 'World'\n",
        "    elif row['class'] == 2:\n",
        "        test_df.at[index, 'topic'] = 'Sports'\n",
        "    elif row['class'] == 3:\n",
        "        test_df.at[index, 'topic'] = 'Business'\n",
        "    else:\n",
        "        test_df.at[index, 'topic'] = 'Sci/Tech'"
      ]
    },
    {
      "cell_type": "code",
      "execution_count": null,
      "metadata": {
        "id": "qcUd850GZlVM"
      },
      "outputs": [],
      "source": [
        "# Checking the average length of news article for each class\n",
        "train_avg_len_by_class = (train_df.groupby('topic')['description'].apply(lambda x: np.mean(x.str.len())).reset_index(name='avg_news_len'))\n",
        "test_avg_len_by_class = (test_df.groupby('topic')['description'].apply(lambda x: np.mean(x.str.len())).reset_index(name='avg_news_len'))"
      ]
    },
    {
      "cell_type": "code",
      "execution_count": null,
      "metadata": {
        "colab": {
          "base_uri": "https://localhost:8080/",
          "height": 175
        },
        "id": "mflDRUIHZlVM",
        "outputId": "a5a3624d-134b-4c10-af22-eb1433136f98"
      },
      "outputs": [],
      "source": [
        "train_avg_len_by_class"
      ]
    },
    {
      "cell_type": "code",
      "execution_count": null,
      "metadata": {
        "colab": {
          "base_uri": "https://localhost:8080/",
          "height": 175
        },
        "id": "dCFt8A6IZlVM",
        "outputId": "ff4408c6-29fd-4531-b7ef-d90a0321705b"
      },
      "outputs": [],
      "source": [
        "test_avg_len_by_class"
      ]
    },
    {
      "cell_type": "code",
      "execution_count": null,
      "metadata": {
        "colab": {
          "base_uri": "https://localhost:8080/"
        },
        "id": "vxYbdpNGZlVM",
        "outputId": "f8610076-90a0-4967-99b2-3698123842ee"
      },
      "outputs": [],
      "source": [
        "# Preprocess the news description\n",
        "tqdm.tqdm.pandas()\n",
        "train_df['news_tokenized'] = train_df['description'].progress_apply(lambda x: preprocess_text(str(x)))\n",
        "test_df['news_tokenized'] = test_df['description'].progress_apply(lambda x: preprocess_text(str(x)))"
      ]
    },
    {
      "cell_type": "markdown",
      "metadata": {
        "id": "ypYh0thkZlVN"
      },
      "source": [
        "### Doc2Vec"
      ]
    },
    {
      "cell_type": "code",
      "execution_count": null,
      "metadata": {
        "id": "LvzATJ5tZlVN"
      },
      "outputs": [],
      "source": [
        "train_tg_documents = [gensim.models.doc2vec.TaggedDocument(doc, [i]) for i, doc in enumerate(train_df['news_tokenized'])]"
      ]
    },
    {
      "cell_type": "code",
      "execution_count": null,
      "metadata": {},
      "outputs": [],
      "source": [
        "num_features = 100;                              # Dimensionality of the hidden layer representation\n",
        "min_word_count = 40;                             # Minimum word count to keep a word in the vocabulary\n",
        "\n",
        "doc2vec_model = gensim.models.doc2vec.Doc2Vec(train_tg_documents, workers=WORKERS, vector_size=num_features, min_count=min_word_count, dm=1,alpha=0.025, min_alpha=0.001)\n",
        "doc2vec_model.train(train_tg_documents, total_examples=doc2vec_model.corpus_count, epochs=EPOCHS, start_alpha=0.002, end_alpha=-0.016)\n",
        "\n",
        "x_train_doc2vec = doc2vec_model.dv.vectors"
      ]
    },
    {
      "cell_type": "code",
      "execution_count": null,
      "metadata": {},
      "outputs": [],
      "source": [
        "x_test_doc2vec = []\n",
        "\n",
        "for doc_id in range(len(test_df)):\n",
        "    inferred_vector = doc2vec_model.infer_vector(test_df['news_tokenized'][doc_id].split())\n",
        "    x_test_doc2vec.append(inferred_vector)"
      ]
    },
    {
      "cell_type": "code",
      "execution_count": null,
      "metadata": {},
      "outputs": [],
      "source": [
        "performance_metrics = pd.DataFrame(columns=['feature-extraction','clustering-algo', 'run#', 'state', 'AMI','ARI','NMI','time'])"
      ]
    },
    {
      "cell_type": "markdown",
      "metadata": {},
      "source": [
        "### k-means"
      ]
    },
    {
      "cell_type": "code",
      "execution_count": null,
      "metadata": {},
      "outputs": [],
      "source": [
        "for run, state in zip(range(1, 21, 1), range(2, 42, 2)):\n",
        "    print('Run #', run)\n",
        "    \n",
        "    start = time.time()\n",
        "    k_means = KMeans(n_clusters=TOPICS, init='k-means++', max_iter=EPOCHS, random_state=state)\n",
        "    k_means.fit(x_train_doc2vec)\n",
        "    \n",
        "    pred_labels = k_means.fit_predict(x_test_doc2vec)\n",
        "        \n",
        "    ami = metrics.adjusted_mutual_info_score(test_df['class'], pred_labels)\n",
        "    ari = metrics.adjusted_rand_score(test_df['class'], pred_labels)\n",
        "    nmi = metrics.normalized_mutual_info_score(test_df['class'], pred_labels)\n",
        "    stop = time.time()\n",
        "    \n",
        "    performance_metrics = performance_metrics.append({'feature-extraction':'Doc2Vec', 'clustering-algo':'k-means', 'run#':run, 'state':state, 'AMI':ami, \n",
        "                                                      'ARI': ari, 'NMI':nmi, 'time':(stop-start)}, ignore_index=True)"
      ]
    },
    {
      "cell_type": "code",
      "execution_count": null,
      "metadata": {},
      "outputs": [],
      "source": [
        "performance_metrics"
      ]
    },
    {
      "cell_type": "code",
      "execution_count": null,
      "metadata": {},
      "outputs": [],
      "source": []
    }
  ],
  "metadata": {
    "accelerator": "GPU",
    "colab": {
      "name": "AGNews.ipynb",
      "provenance": []
    },
    "interpreter": {
      "hash": "bda89cad9a35062bfe0e2c3265283126a05587ce658520b830e4f64500a7ea1e"
    },
    "kernelspec": {
      "display_name": "Python 3.8.5 64-bit",
      "language": "python",
      "name": "python3"
    },
    "language_info": {
      "codemirror_mode": {
        "name": "ipython",
        "version": 3
      },
      "file_extension": ".py",
      "mimetype": "text/x-python",
      "name": "python",
      "nbconvert_exporter": "python",
      "pygments_lexer": "ipython3",
      "version": "3.8.5"
    },
    "orig_nbformat": 4
  },
  "nbformat": 4,
  "nbformat_minor": 0
}
