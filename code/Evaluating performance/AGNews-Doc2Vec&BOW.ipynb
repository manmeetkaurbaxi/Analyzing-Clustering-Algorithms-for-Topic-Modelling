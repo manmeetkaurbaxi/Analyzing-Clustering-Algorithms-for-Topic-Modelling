{
  "cells": [
    {
      "cell_type": "code",
      "execution_count": 1,
      "metadata": {},
      "outputs": [],
      "source": [
        "# !pip install gensim --upgrade -q"
      ]
    },
    {
      "cell_type": "code",
      "execution_count": 2,
      "metadata": {
        "id": "FDcqm4OWZlVI"
      },
      "outputs": [],
      "source": [
        "import gensim\n",
        "import numpy as np\n",
        "import pandas as pd\n",
        "from sklearn.cluster import KMeans\n",
        "from sklearn.feature_extraction.text import TfidfVectorizer\n",
        "from sklearn import metrics\n",
        "import tqdm\n",
        "import nltk\n",
        "import re\n",
        "from operator import itemgetter\n",
        "import time\n",
        "import multiprocessing\n",
        "from bertopic import BERTopic\n",
        "\n",
        "EPOCHS = 40\n",
        "TOPICS = 4\n",
        "CHUNK_SIZE = 1000\n",
        "WORKERS = 7\n",
        "EVAL_PERIOD = 10"
      ]
    },
    {
      "cell_type": "code",
      "execution_count": 3,
      "metadata": {
        "colab": {
          "base_uri": "https://localhost:8080/"
        },
        "id": "IW6AZR-iawT2",
        "outputId": "a25d706d-c5ce-403c-d60c-86fefb92f32a"
      },
      "outputs": [
        {
          "name": "stderr",
          "output_type": "stream",
          "text": [
            "[nltk_data] Downloading package punkt to\n",
            "[nltk_data]     C:\\Users\\mbaxi\\AppData\\Roaming\\nltk_data...\n",
            "[nltk_data]   Package punkt is already up-to-date!\n",
            "[nltk_data] Downloading package wordnet to\n",
            "[nltk_data]     C:\\Users\\mbaxi\\AppData\\Roaming\\nltk_data...\n",
            "[nltk_data]   Package wordnet is already up-to-date!\n",
            "[nltk_data] Downloading package stopwords to\n",
            "[nltk_data]     C:\\Users\\mbaxi\\AppData\\Roaming\\nltk_data...\n",
            "[nltk_data]   Package stopwords is already up-to-date!\n"
          ]
        },
        {
          "data": {
            "text/plain": [
              "True"
            ]
          },
          "execution_count": 3,
          "metadata": {},
          "output_type": "execute_result"
        }
      ],
      "source": [
        "nltk.download('punkt')\n",
        "nltk.download('wordnet')\n",
        "nltk.download('stopwords')"
      ]
    },
    {
      "cell_type": "code",
      "execution_count": 4,
      "metadata": {},
      "outputs": [],
      "source": [
        "def preprocess_text(sentence):\n",
        "    # Lowercase\n",
        "    sentence = sentence.lower()\n",
        "    \n",
        "    # Remove all non-alphabets (punctuation, numbers, new-line characters and extra-spaces)\n",
        "    sentence = re.sub(r'[^a-zA-Z]+', ' ', sentence)\n",
        "    sentence = sentence.replace('\\n', '')\n",
        "    # sentence = re.sub('\\s\\s+', ' ', sentence)\n",
        "    \n",
        "    # Tokenize & remove stop-words\n",
        "    word_list = nltk.word_tokenize(sentence)    \n",
        "    stopwords_list = set(nltk.corpus.stopwords.words('english'))\n",
        "    word_list = [word for word in word_list if word not in stopwords_list]\n",
        "    \n",
        "    # Remove very small words, length < 3, they don't contribute any useful information\n",
        "    word_list = [word for word in word_list if len(word) > 3]\n",
        "        \n",
        "    # Stem & Lemmatize\n",
        "    porter_stemmer = nltk.stem.PorterStemmer()\n",
        "    lemmatizer = nltk.stem.WordNetLemmatizer()\n",
        "    word_list = [porter_stemmer.stem(word) for word in word_list]\n",
        "    word_list = [lemmatizer.lemmatize(word) for word in word_list]\n",
        "    \n",
        "    sentence = ' '.join(word_list)\n",
        "    \n",
        "    return sentence"
      ]
    },
    {
      "cell_type": "markdown",
      "metadata": {
        "id": "V_dcMbS0ZlVJ"
      },
      "source": [
        "## Load Data"
      ]
    },
    {
      "cell_type": "code",
      "execution_count": 5,
      "metadata": {
        "id": "F0iINKWiZlVK"
      },
      "outputs": [],
      "source": [
        "train_df = pd.read_csv('../../data/ag_news/train.csv')\n",
        "test_df = pd.read_csv('../../data/ag_news/test.csv')"
      ]
    },
    {
      "cell_type": "code",
      "execution_count": 6,
      "metadata": {
        "id": "n_zN6GybZlVL"
      },
      "outputs": [],
      "source": [
        "for index, row in train_df.iterrows():\n",
        "    if row['class'] == 1:\n",
        "        train_df.at[index, 'topic'] = 'World'\n",
        "    elif row['class'] == 2:\n",
        "        train_df.at[index, 'topic'] = 'Sports'\n",
        "    elif row['class'] == 3:\n",
        "        train_df.at[index, 'topic'] = 'Business'\n",
        "    else:\n",
        "        train_df.at[index, 'topic'] = 'Sci/Tech'\n",
        "\n",
        "for index, row in test_df.iterrows():\n",
        "    if row['class'] == 1:\n",
        "        test_df.at[index, 'topic'] = 'World'\n",
        "    elif row['class'] == 2:\n",
        "        test_df.at[index, 'topic'] = 'Sports'\n",
        "    elif row['class'] == 3:\n",
        "        test_df.at[index, 'topic'] = 'Business'\n",
        "    else:\n",
        "        test_df.at[index, 'topic'] = 'Sci/Tech'"
      ]
    },
    {
      "cell_type": "code",
      "execution_count": 7,
      "metadata": {
        "id": "qcUd850GZlVM"
      },
      "outputs": [],
      "source": [
        "# Checking the average length of news article for each class\n",
        "train_avg_len_by_class = (train_df.groupby('topic')['description'].apply(lambda x: np.mean(x.str.len())).reset_index(name='avg_news_len'))\n",
        "test_avg_len_by_class = (test_df.groupby('topic')['description'].apply(lambda x: np.mean(x.str.len())).reset_index(name='avg_news_len'))"
      ]
    },
    {
      "cell_type": "code",
      "execution_count": 8,
      "metadata": {
        "colab": {
          "base_uri": "https://localhost:8080/",
          "height": 175
        },
        "id": "mflDRUIHZlVM",
        "outputId": "a5a3624d-134b-4c10-af22-eb1433136f98"
      },
      "outputs": [
        {
          "data": {
            "text/html": [
              "<div>\n",
              "<style scoped>\n",
              "    .dataframe tbody tr th:only-of-type {\n",
              "        vertical-align: middle;\n",
              "    }\n",
              "\n",
              "    .dataframe tbody tr th {\n",
              "        vertical-align: top;\n",
              "    }\n",
              "\n",
              "    .dataframe thead th {\n",
              "        text-align: right;\n",
              "    }\n",
              "</style>\n",
              "<table border=\"1\" class=\"dataframe\">\n",
              "  <thead>\n",
              "    <tr style=\"text-align: right;\">\n",
              "      <th></th>\n",
              "      <th>topic</th>\n",
              "      <th>avg_news_len</th>\n",
              "    </tr>\n",
              "  </thead>\n",
              "  <tbody>\n",
              "    <tr>\n",
              "      <th>0</th>\n",
              "      <td>Business</td>\n",
              "      <td>198.690267</td>\n",
              "    </tr>\n",
              "    <tr>\n",
              "      <th>1</th>\n",
              "      <td>Sci/Tech</td>\n",
              "      <td>193.852533</td>\n",
              "    </tr>\n",
              "    <tr>\n",
              "      <th>2</th>\n",
              "      <td>Sports</td>\n",
              "      <td>185.171367</td>\n",
              "    </tr>\n",
              "    <tr>\n",
              "      <th>3</th>\n",
              "      <td>World</td>\n",
              "      <td>195.893900</td>\n",
              "    </tr>\n",
              "  </tbody>\n",
              "</table>\n",
              "</div>"
            ],
            "text/plain": [
              "      topic  avg_news_len\n",
              "0  Business    198.690267\n",
              "1  Sci/Tech    193.852533\n",
              "2    Sports    185.171367\n",
              "3     World    195.893900"
            ]
          },
          "execution_count": 8,
          "metadata": {},
          "output_type": "execute_result"
        }
      ],
      "source": [
        "train_avg_len_by_class"
      ]
    },
    {
      "cell_type": "code",
      "execution_count": 9,
      "metadata": {
        "colab": {
          "base_uri": "https://localhost:8080/",
          "height": 175
        },
        "id": "dCFt8A6IZlVM",
        "outputId": "ff4408c6-29fd-4531-b7ef-d90a0321705b"
      },
      "outputs": [
        {
          "data": {
            "text/html": [
              "<div>\n",
              "<style scoped>\n",
              "    .dataframe tbody tr th:only-of-type {\n",
              "        vertical-align: middle;\n",
              "    }\n",
              "\n",
              "    .dataframe tbody tr th {\n",
              "        vertical-align: top;\n",
              "    }\n",
              "\n",
              "    .dataframe thead th {\n",
              "        text-align: right;\n",
              "    }\n",
              "</style>\n",
              "<table border=\"1\" class=\"dataframe\">\n",
              "  <thead>\n",
              "    <tr style=\"text-align: right;\">\n",
              "      <th></th>\n",
              "      <th>topic</th>\n",
              "      <th>avg_news_len</th>\n",
              "    </tr>\n",
              "  </thead>\n",
              "  <tbody>\n",
              "    <tr>\n",
              "      <th>0</th>\n",
              "      <td>Business</td>\n",
              "      <td>197.831053</td>\n",
              "    </tr>\n",
              "    <tr>\n",
              "      <th>1</th>\n",
              "      <td>Sci/Tech</td>\n",
              "      <td>193.951579</td>\n",
              "    </tr>\n",
              "    <tr>\n",
              "      <th>2</th>\n",
              "      <td>Sports</td>\n",
              "      <td>183.838947</td>\n",
              "    </tr>\n",
              "    <tr>\n",
              "      <th>3</th>\n",
              "      <td>World</td>\n",
              "      <td>194.010526</td>\n",
              "    </tr>\n",
              "  </tbody>\n",
              "</table>\n",
              "</div>"
            ],
            "text/plain": [
              "      topic  avg_news_len\n",
              "0  Business    197.831053\n",
              "1  Sci/Tech    193.951579\n",
              "2    Sports    183.838947\n",
              "3     World    194.010526"
            ]
          },
          "execution_count": 9,
          "metadata": {},
          "output_type": "execute_result"
        }
      ],
      "source": [
        "test_avg_len_by_class"
      ]
    },
    {
      "cell_type": "code",
      "execution_count": 10,
      "metadata": {
        "colab": {
          "base_uri": "https://localhost:8080/"
        },
        "id": "vxYbdpNGZlVM",
        "outputId": "f8610076-90a0-4967-99b2-3698123842ee"
      },
      "outputs": [
        {
          "name": "stderr",
          "output_type": "stream",
          "text": [
            "100%|██████████| 120000/120000 [01:46<00:00, 1130.99it/s]\n",
            "100%|██████████| 7600/7600 [00:06<00:00, 1164.84it/s]\n"
          ]
        }
      ],
      "source": [
        "# Preprocess the news description\n",
        "tqdm.tqdm.pandas()\n",
        "train_df['news_tokenized'] = train_df['description'].progress_apply(lambda x: preprocess_text(str(x)))\n",
        "test_df['news_tokenized'] = test_df['description'].progress_apply(lambda x: preprocess_text(str(x)))"
      ]
    },
    {
      "cell_type": "markdown",
      "metadata": {
        "id": "ypYh0thkZlVN"
      },
      "source": [
        "### Doc2Vec"
      ]
    },
    {
      "cell_type": "code",
      "execution_count": 11,
      "metadata": {
        "id": "LvzATJ5tZlVN"
      },
      "outputs": [],
      "source": [
        "train_tg_documents = [gensim.models.doc2vec.TaggedDocument(doc, [i]) for i, doc in enumerate(train_df['news_tokenized'])]"
      ]
    },
    {
      "cell_type": "code",
      "execution_count": 12,
      "metadata": {},
      "outputs": [],
      "source": [
        "num_features = 100;                              # Dimensionality of the hidden layer representation\n",
        "min_word_count = 40;                             # Minimum word count to keep a word in the vocabulary\n",
        "\n",
        "doc2vec_model = gensim.models.doc2vec.Doc2Vec(train_tg_documents, workers=WORKERS, vector_size=num_features, min_count=min_word_count, dm=1,alpha=0.025, min_alpha=0.001)\n",
        "doc2vec_model.train(train_tg_documents, total_examples=doc2vec_model.corpus_count, epochs=EPOCHS, start_alpha=0.002, end_alpha=-0.016)\n",
        "\n",
        "x_train_doc2vec = doc2vec_model.dv.vectors"
      ]
    },
    {
      "cell_type": "code",
      "execution_count": 13,
      "metadata": {},
      "outputs": [],
      "source": [
        "x_test_doc2vec = []\n",
        "\n",
        "for doc_id in range(len(test_df)):\n",
        "    inferred_vector = doc2vec_model.infer_vector(test_df['news_tokenized'][doc_id].split())\n",
        "    x_test_doc2vec.append(inferred_vector)"
      ]
    },
    {
      "cell_type": "code",
      "execution_count": 14,
      "metadata": {},
      "outputs": [],
      "source": [
        "performance_metrics = pd.DataFrame(columns=['feature-extraction','clustering-algo', 'run#', 'state', 'AMI','ARI','NMI','time'])"
      ]
    },
    {
      "cell_type": "markdown",
      "metadata": {},
      "source": [
        "### k-means"
      ]
    },
    {
      "cell_type": "code",
      "execution_count": 26,
      "metadata": {},
      "outputs": [
        {
          "name": "stdout",
          "output_type": "stream",
          "text": [
            "Run # 1\n"
          ]
        }
      ],
      "source": [
        "for run, state in zip(range(1, 21, 1), range(2, 42, 2)):\n",
        "    print('Run #', run)\n",
        "    \n",
        "    start = time.time()\n",
        "    k_means = KMeans(n_clusters=TOPICS, init='k-means++', max_iter=EPOCHS, random_state=state)\n",
        "    k_means.fit(x_train_doc2vec)\n",
        "    \n",
        "    pred_labels = k_means.fit_predict(x_test_doc2vec)\n",
        "        \n",
        "    ami = metrics.adjusted_mutual_info_score(test_df['class'], pred_labels)\n",
        "    ari = metrics.adjusted_rand_score(test_df['class'], pred_labels)\n",
        "    nmi = metrics.normalized_mutual_info_score(test_df['class'], pred_labels)\n",
        "    stop = time.time()\n",
        "    \n",
        "    performance_metrics = performance_metrics.append({'feature-extraction':'Doc2Vec', 'clustering-algo':'k-means', 'run#':run, 'state':state, 'AMI':ami, \n",
        "                                                      'ARI': ari, 'NMI':nmi, 'time':(stop-start)}, ignore_index=True)\n",
        "    break"
      ]
    },
    {
      "cell_type": "markdown",
      "metadata": {},
      "source": [
        "### Using BOW as Doc2Vec embeddings aren't supported by NMF, LDA, LSI"
      ]
    },
    {
      "cell_type": "code",
      "execution_count": 15,
      "metadata": {},
      "outputs": [],
      "source": [
        "train_documents = train_df['news_tokenized'].str.split()\n",
        "dictionary = gensim.corpora.Dictionary(train_documents)\n",
        "dictionary.filter_extremes(no_below=5, no_above=0.5, keep_n=20000)\n",
        "\n",
        "test_documents = test_df['news_tokenized'].str.split()\n",
        "\n",
        "train_corpus = [dictionary.doc2bow(document) for document in train_documents]\n",
        "test_corpus = [dictionary.doc2bow(document) for document in test_documents]\n",
        "\n",
        "# train_corpus_doc2vec = list(doc2vec_model[train_corpus])\n",
        "# test_corpus_doc2vec = list(doc2vec_model[test_corpus])"
      ]
    },
    {
      "cell_type": "markdown",
      "metadata": {},
      "source": [
        "### NMF"
      ]
    },
    {
      "cell_type": "code",
      "execution_count": 32,
      "metadata": {},
      "outputs": [
        {
          "name": "stdout",
          "output_type": "stream",
          "text": [
            "Run # 1\n"
          ]
        }
      ],
      "source": [
        "for run, state in zip(range(1, 21, 1), range(2, 42, 2)):\n",
        "    print('Run #', run)\n",
        "    \n",
        "    start = time.time()\n",
        "    gensim_nmf = gensim.models.Nmf(corpus=train_corpus, num_topics=TOPICS, id2word=dictionary, chunksize=CHUNK_SIZE, passes=EPOCHS, eval_every=EVAL_PERIOD, minimum_probability=0, \n",
        "                                   random_state=state, kappa=1)\n",
        "    \n",
        "    pred_labels = []\n",
        "    for test_doc in test_corpus:\n",
        "        pred_label = max(gensim_nmf[test_doc], key=itemgetter(1))[0]\n",
        "        pred_labels.append(pred_label)\n",
        "        \n",
        "    ami = metrics.adjusted_mutual_info_score(test_df['class'], pred_labels)\n",
        "    ari = metrics.adjusted_rand_score(test_df['class'], pred_labels)\n",
        "    nmi = metrics.normalized_mutual_info_score(test_df['class'], pred_labels)\n",
        "    stop = time.time()\n",
        "        \n",
        "    performance_metrics = performance_metrics.append({'feature-extraction':'Bag of Words', 'clustering-algo':'NMF', 'run#':run, 'state':state, 'AMI':ami, \n",
        "                                                      'ARI': ari, 'NMI':nmi, 'time':(stop-start)}, ignore_index=True)\n",
        "    break"
      ]
    },
    {
      "cell_type": "markdown",
      "metadata": {},
      "source": [
        "### LDA"
      ]
    },
    {
      "cell_type": "code",
      "execution_count": 33,
      "metadata": {},
      "outputs": [
        {
          "name": "stdout",
          "output_type": "stream",
          "text": [
            "Run # 1\n"
          ]
        }
      ],
      "source": [
        "for run, state in zip(range(1, 21, 1), range(2, 42, 2)):\n",
        "    print('Run #', run)\n",
        "    \n",
        "    start = time.time()\n",
        "    gensim_lda = gensim.models.ldamulticore.LdaMulticore(corpus=train_corpus, num_topics=TOPICS, id2word=dictionary, chunksize=CHUNK_SIZE, workers=WORKERS, passes=EPOCHS, \n",
        "                                                     eval_every = EVAL_PERIOD, per_word_topics=True, random_state=state)\n",
        "    \n",
        "    pred_labels = []\n",
        "    for test_doc in test_corpus:\n",
        "        pred_label = max(gensim_lda[test_doc][0], key=itemgetter(1))[0]\n",
        "        pred_labels.append(pred_label)\n",
        "        \n",
        "    ami = metrics.adjusted_mutual_info_score(test_df['class'], pred_labels)\n",
        "    ari = metrics.adjusted_rand_score(test_df['class'], pred_labels)\n",
        "    nmi = metrics.normalized_mutual_info_score(test_df['class'], pred_labels)\n",
        "    stop = time.time()\n",
        "        \n",
        "    performance_metrics = performance_metrics.append({'feature-extraction':'Bag of Words', 'clustering-algo':'LDA', 'run#':run, 'state':state, 'AMI':ami, \n",
        "                                                      'ARI': ari, 'NMI':nmi, 'time':(stop-start)}, ignore_index=True)\n",
        "    break"
      ]
    },
    {
      "cell_type": "markdown",
      "metadata": {},
      "source": [
        "### LSI"
      ]
    },
    {
      "cell_type": "code",
      "execution_count": 34,
      "metadata": {},
      "outputs": [
        {
          "name": "stdout",
          "output_type": "stream",
          "text": [
            "Run # 1\n"
          ]
        }
      ],
      "source": [
        "for run, state in zip(range(1, 21, 1), range(2, 42, 2)):\n",
        "    print('Run #', run)\n",
        "    \n",
        "    start = time.time()\n",
        "    gensim_lsi = gensim.models.LsiModel(corpus=train_corpus, num_topics=TOPICS, id2word=dictionary, chunksize=CHUNK_SIZE)\n",
        "    \n",
        "    pred_labels = []\n",
        "    for test_doc in test_corpus:\n",
        "        pred_label = max(gensim_lsi[test_doc], key=itemgetter(1))[0]\n",
        "        pred_labels.append(pred_label)\n",
        "            \n",
        "    ami = metrics.adjusted_mutual_info_score(test_df['class'], pred_labels)\n",
        "    ari = metrics.adjusted_rand_score(test_df['class'], pred_labels)\n",
        "    nmi = metrics.normalized_mutual_info_score(test_df['class'], pred_labels)\n",
        "    stop = time.time()\n",
        "      \n",
        "    performance_metrics = performance_metrics.append({'feature-extraction':'Bag of Words', 'clustering-algo':'LSI', 'run#':run, 'state':state, 'AMI':ami, \n",
        "                                                      'ARI': ari, 'NMI':nmi, 'time':(stop-start)}, ignore_index=True)\n",
        "    break"
      ]
    },
    {
      "cell_type": "code",
      "execution_count": 35,
      "metadata": {},
      "outputs": [
        {
          "data": {
            "text/html": [
              "<div>\n",
              "<style scoped>\n",
              "    .dataframe tbody tr th:only-of-type {\n",
              "        vertical-align: middle;\n",
              "    }\n",
              "\n",
              "    .dataframe tbody tr th {\n",
              "        vertical-align: top;\n",
              "    }\n",
              "\n",
              "    .dataframe thead th {\n",
              "        text-align: right;\n",
              "    }\n",
              "</style>\n",
              "<table border=\"1\" class=\"dataframe\">\n",
              "  <thead>\n",
              "    <tr style=\"text-align: right;\">\n",
              "      <th></th>\n",
              "      <th>feature-extraction</th>\n",
              "      <th>clustering-algo</th>\n",
              "      <th>run#</th>\n",
              "      <th>state</th>\n",
              "      <th>AMI</th>\n",
              "      <th>ARI</th>\n",
              "      <th>NMI</th>\n",
              "      <th>time</th>\n",
              "    </tr>\n",
              "  </thead>\n",
              "  <tbody>\n",
              "    <tr>\n",
              "      <th>0</th>\n",
              "      <td>tf-idf</td>\n",
              "      <td>NMF</td>\n",
              "      <td>1</td>\n",
              "      <td>2</td>\n",
              "      <td>0.171890</td>\n",
              "      <td>0.161745</td>\n",
              "      <td>0.172264</td>\n",
              "      <td>169.838096</td>\n",
              "    </tr>\n",
              "    <tr>\n",
              "      <th>1</th>\n",
              "      <td>tf-idf</td>\n",
              "      <td>LDA</td>\n",
              "      <td>1</td>\n",
              "      <td>2</td>\n",
              "      <td>0.515048</td>\n",
              "      <td>0.550060</td>\n",
              "      <td>0.515255</td>\n",
              "      <td>276.442270</td>\n",
              "    </tr>\n",
              "    <tr>\n",
              "      <th>2</th>\n",
              "      <td>tf-idf</td>\n",
              "      <td>LSI</td>\n",
              "      <td>1</td>\n",
              "      <td>2</td>\n",
              "      <td>0.208235</td>\n",
              "      <td>0.187411</td>\n",
              "      <td>0.208591</td>\n",
              "      <td>66.201002</td>\n",
              "    </tr>\n",
              "  </tbody>\n",
              "</table>\n",
              "</div>"
            ],
            "text/plain": [
              "  feature-extraction clustering-algo run# state       AMI       ARI       NMI  \\\n",
              "0             tf-idf             NMF    1     2  0.171890  0.161745  0.172264   \n",
              "1             tf-idf             LDA    1     2  0.515048  0.550060  0.515255   \n",
              "2             tf-idf             LSI    1     2  0.208235  0.187411  0.208591   \n",
              "\n",
              "         time  \n",
              "0  169.838096  \n",
              "1  276.442270  \n",
              "2   66.201002  "
            ]
          },
          "execution_count": 35,
          "metadata": {},
          "output_type": "execute_result"
        }
      ],
      "source": [
        "performance_metrics"
      ]
    },
    {
      "cell_type": "code",
      "execution_count": null,
      "metadata": {},
      "outputs": [],
      "source": []
    }
  ],
  "metadata": {
    "accelerator": "GPU",
    "colab": {
      "name": "AGNews.ipynb",
      "provenance": []
    },
    "interpreter": {
      "hash": "bda89cad9a35062bfe0e2c3265283126a05587ce658520b830e4f64500a7ea1e"
    },
    "kernelspec": {
      "display_name": "Python 3.8.5 64-bit",
      "language": "python",
      "name": "python3"
    },
    "language_info": {
      "codemirror_mode": {
        "name": "ipython",
        "version": 3
      },
      "file_extension": ".py",
      "mimetype": "text/x-python",
      "name": "python",
      "nbconvert_exporter": "python",
      "pygments_lexer": "ipython3",
      "version": "3.8.5"
    },
    "orig_nbformat": 4
  },
  "nbformat": 4,
  "nbformat_minor": 0
}
