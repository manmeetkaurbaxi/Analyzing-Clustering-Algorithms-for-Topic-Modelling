{
  "cells": [
    {
      "cell_type": "code",
      "execution_count": 14,
      "metadata": {
        "id": "FDcqm4OWZlVI"
      },
      "outputs": [],
      "source": [
        "import gensim\n",
        "import numpy as np\n",
        "import pandas as pd\n",
        "import plotly.express as px\n",
        "from sklearn.cluster import KMeans\n",
        "from sklearn.feature_extraction.text import TfidfVectorizer\n",
        "from sklearn import metrics\n",
        "import tqdm\n",
        "from utils import *\n",
        "import plotly.graph_objects as go"
      ]
    },
    {
      "cell_type": "code",
      "execution_count": 2,
      "metadata": {
        "colab": {
          "base_uri": "https://localhost:8080/"
        },
        "id": "IW6AZR-iawT2",
        "outputId": "a25d706d-c5ce-403c-d60c-86fefb92f32a"
      },
      "outputs": [
        {
          "name": "stdout",
          "output_type": "stream",
          "text": [
            "[nltk_data] Downloading package punkt to /root/nltk_data...\n",
            "[nltk_data]   Unzipping tokenizers/punkt.zip.\n",
            "[nltk_data] Downloading package wordnet to /root/nltk_data...\n",
            "[nltk_data]   Unzipping corpora/wordnet.zip.\n",
            "[nltk_data] Downloading package stopwords to /root/nltk_data...\n",
            "[nltk_data]   Unzipping corpora/stopwords.zip.\n"
          ]
        },
        {
          "data": {
            "text/plain": [
              "True"
            ]
          },
          "execution_count": 2,
          "metadata": {},
          "output_type": "execute_result"
        }
      ],
      "source": [
        "nltk.download('punkt')\n",
        "nltk.download('wordnet')\n",
        "nltk.download('stopwords')"
      ]
    },
    {
      "cell_type": "markdown",
      "metadata": {
        "id": "V_dcMbS0ZlVJ"
      },
      "source": [
        "## Load Data"
      ]
    },
    {
      "cell_type": "code",
      "execution_count": 3,
      "metadata": {
        "id": "F0iINKWiZlVK"
      },
      "outputs": [],
      "source": [
        "train_df = pd.read_csv('train.csv')\n",
        "test_df = pd.read_csv('test.csv')"
      ]
    },
    {
      "cell_type": "code",
      "execution_count": 4,
      "metadata": {
        "colab": {
          "base_uri": "https://localhost:8080/"
        },
        "id": "xE3_--WYZlVK",
        "outputId": "b14f9114-09c2-4c1c-bd25-3ef4ddfc955f"
      },
      "outputs": [
        {
          "data": {
            "text/plain": [
              "Index(['class', 'title', 'description'], dtype='object')"
            ]
          },
          "execution_count": 4,
          "metadata": {},
          "output_type": "execute_result"
        }
      ],
      "source": [
        "train_df.columns"
      ]
    },
    {
      "cell_type": "code",
      "execution_count": 5,
      "metadata": {
        "id": "n_zN6GybZlVL"
      },
      "outputs": [],
      "source": [
        "for index, row in train_df.iterrows():\n",
        "    if row['class'] == 1:\n",
        "        train_df.at[index, 'topic'] = 'World'\n",
        "    elif row['class'] == 2:\n",
        "        train_df.at[index, 'topic'] = 'Sports'\n",
        "    elif row['class'] == 3:\n",
        "        train_df.at[index, 'topic'] = 'Business'\n",
        "    else:\n",
        "        train_df.at[index, 'topic'] = 'Sci/Tech'"
      ]
    },
    {
      "cell_type": "code",
      "execution_count": 6,
      "metadata": {
        "id": "BM_wwJ0oZlVL"
      },
      "outputs": [],
      "source": [
        "for index, row in test_df.iterrows():\n",
        "    if row['class'] == 1:\n",
        "        test_df.at[index, 'topic'] = 'World'\n",
        "    elif row['class'] == 2:\n",
        "        test_df.at[index, 'topic'] = 'Sports'\n",
        "    elif row['class'] == 3:\n",
        "        test_df.at[index, 'topic'] = 'Business'\n",
        "    else:\n",
        "        test_df.at[index, 'topic'] = 'Sci/Tech'"
      ]
    },
    {
      "cell_type": "code",
      "execution_count": 7,
      "metadata": {
        "id": "gCX5G-DLZlVL"
      },
      "outputs": [],
      "source": [
        "# # Plots to check distribution of classes in the datasets\n",
        "# fig_train = px.bar(train_df, x=train_df['topic'].value_counts().index, y=train_df['topic'].value_counts().values, color=train_df['topic'].value_counts().index, \n",
        "#                    title='Distribution of topics in training dataset', width=1100, height=500,\n",
        "#                    labels={\n",
        "#                        'x':'Topic', 'y':'Number of News Articles','color':'Topic'\n",
        "#                    })\n",
        "# fig_train.show()\n",
        "# fig_train.write_image('../results/EDA/topic-dist-train.pdf', engine='kaleido')\n",
        "\n",
        "# fig_test = px.bar(test_df, x=test_df['topic'].value_counts().index, y=test_df['topic'].value_counts().values, color=test_df['topic'].value_counts().index, \n",
        "#                    title='Distribution of topics in testing dataset', width=1100, height=500,\n",
        "#                    labels={\n",
        "#                        'x':'Topic', 'y':'Number of News Articles','color':'Topic'\n",
        "#                    })\n",
        "# fig_test.show()\n",
        "# fig_test.write_image('../results/EDA/topic-dist-test.pdf', engine='kaleido')"
      ]
    },
    {
      "cell_type": "code",
      "execution_count": 8,
      "metadata": {
        "id": "qcUd850GZlVM"
      },
      "outputs": [],
      "source": [
        "# Checking the average length of news article for each class\n",
        "train_avg_len_by_class = (train_df.groupby('topic')['description'].apply(lambda x: np.mean(x.str.len())).reset_index(name='avg_news_len'))\n",
        "test_avg_len_by_class = (test_df.groupby('topic')['description'].apply(lambda x: np.mean(x.str.len())).reset_index(name='avg_news_len'))"
      ]
    },
    {
      "cell_type": "code",
      "execution_count": 9,
      "metadata": {
        "colab": {
          "base_uri": "https://localhost:8080/",
          "height": 175
        },
        "id": "mflDRUIHZlVM",
        "outputId": "a5a3624d-134b-4c10-af22-eb1433136f98"
      },
      "outputs": [
        {
          "data": {
            "text/html": [
              "<div>\n",
              "<style scoped>\n",
              "    .dataframe tbody tr th:only-of-type {\n",
              "        vertical-align: middle;\n",
              "    }\n",
              "\n",
              "    .dataframe tbody tr th {\n",
              "        vertical-align: top;\n",
              "    }\n",
              "\n",
              "    .dataframe thead th {\n",
              "        text-align: right;\n",
              "    }\n",
              "</style>\n",
              "<table border=\"1\" class=\"dataframe\">\n",
              "  <thead>\n",
              "    <tr style=\"text-align: right;\">\n",
              "      <th></th>\n",
              "      <th>topic</th>\n",
              "      <th>avg_news_len</th>\n",
              "    </tr>\n",
              "  </thead>\n",
              "  <tbody>\n",
              "    <tr>\n",
              "      <th>0</th>\n",
              "      <td>Business</td>\n",
              "      <td>198.690267</td>\n",
              "    </tr>\n",
              "    <tr>\n",
              "      <th>1</th>\n",
              "      <td>Sci/Tech</td>\n",
              "      <td>193.852533</td>\n",
              "    </tr>\n",
              "    <tr>\n",
              "      <th>2</th>\n",
              "      <td>Sports</td>\n",
              "      <td>185.171367</td>\n",
              "    </tr>\n",
              "    <tr>\n",
              "      <th>3</th>\n",
              "      <td>World</td>\n",
              "      <td>195.893900</td>\n",
              "    </tr>\n",
              "  </tbody>\n",
              "</table>\n",
              "</div>"
            ],
            "text/plain": [
              "      topic  avg_news_len\n",
              "0  Business    198.690267\n",
              "1  Sci/Tech    193.852533\n",
              "2    Sports    185.171367\n",
              "3     World    195.893900"
            ]
          },
          "execution_count": 9,
          "metadata": {},
          "output_type": "execute_result"
        }
      ],
      "source": [
        "train_avg_len_by_class"
      ]
    },
    {
      "cell_type": "code",
      "execution_count": 10,
      "metadata": {
        "colab": {
          "base_uri": "https://localhost:8080/",
          "height": 175
        },
        "id": "dCFt8A6IZlVM",
        "outputId": "ff4408c6-29fd-4531-b7ef-d90a0321705b"
      },
      "outputs": [
        {
          "data": {
            "text/html": [
              "<div>\n",
              "<style scoped>\n",
              "    .dataframe tbody tr th:only-of-type {\n",
              "        vertical-align: middle;\n",
              "    }\n",
              "\n",
              "    .dataframe tbody tr th {\n",
              "        vertical-align: top;\n",
              "    }\n",
              "\n",
              "    .dataframe thead th {\n",
              "        text-align: right;\n",
              "    }\n",
              "</style>\n",
              "<table border=\"1\" class=\"dataframe\">\n",
              "  <thead>\n",
              "    <tr style=\"text-align: right;\">\n",
              "      <th></th>\n",
              "      <th>topic</th>\n",
              "      <th>avg_news_len</th>\n",
              "    </tr>\n",
              "  </thead>\n",
              "  <tbody>\n",
              "    <tr>\n",
              "      <th>0</th>\n",
              "      <td>Business</td>\n",
              "      <td>197.831053</td>\n",
              "    </tr>\n",
              "    <tr>\n",
              "      <th>1</th>\n",
              "      <td>Sci/Tech</td>\n",
              "      <td>193.951579</td>\n",
              "    </tr>\n",
              "    <tr>\n",
              "      <th>2</th>\n",
              "      <td>Sports</td>\n",
              "      <td>183.838947</td>\n",
              "    </tr>\n",
              "    <tr>\n",
              "      <th>3</th>\n",
              "      <td>World</td>\n",
              "      <td>194.010526</td>\n",
              "    </tr>\n",
              "  </tbody>\n",
              "</table>\n",
              "</div>"
            ],
            "text/plain": [
              "      topic  avg_news_len\n",
              "0  Business    197.831053\n",
              "1  Sci/Tech    193.951579\n",
              "2    Sports    183.838947\n",
              "3     World    194.010526"
            ]
          },
          "execution_count": 10,
          "metadata": {},
          "output_type": "execute_result"
        }
      ],
      "source": [
        "test_avg_len_by_class"
      ]
    },
    {
      "cell_type": "code",
      "execution_count": 11,
      "metadata": {
        "colab": {
          "base_uri": "https://localhost:8080/"
        },
        "id": "vxYbdpNGZlVM",
        "outputId": "f8610076-90a0-4967-99b2-3698123842ee"
      },
      "outputs": [
        {
          "name": "stderr",
          "output_type": "stream",
          "text": [
            "100%|██████████| 120000/120000 [02:18<00:00, 868.59it/s]\n",
            "100%|██████████| 7600/7600 [00:08<00:00, 877.68it/s]\n"
          ]
        }
      ],
      "source": [
        "# Preprocess the news description\n",
        "tqdm.tqdm.pandas()\n",
        "train_df['news_tokenized'] = train_df['description'].progress_apply(lambda x: preprocess_text(str(x)))\n",
        "test_df['news_tokenized'] = test_df['description'].progress_apply(lambda x: preprocess_text(str(x)))"
      ]
    },
    {
      "cell_type": "markdown",
      "metadata": {
        "id": "mI863ziXZlVN"
      },
      "source": [
        "## Feature Representations"
      ]
    },
    {
      "cell_type": "markdown",
      "metadata": {
        "id": "ypYh0thkZlVN"
      },
      "source": [
        "### TF-IDF"
      ]
    },
    {
      "cell_type": "code",
      "execution_count": 12,
      "metadata": {
        "id": "ffjxhgRsZlVN"
      },
      "outputs": [],
      "source": [
        "ag_news_df = pd.concat([train_df, test_df], ignore_index=True)"
      ]
    },
    {
      "cell_type": "code",
      "execution_count": 13,
      "metadata": {
        "id": "LvzATJ5tZlVN"
      },
      "outputs": [],
      "source": [
        "tf_idfvectorizer = TfidfVectorizer(strip_accents='unicode', stop_words='english', min_df=2)\n",
        "x_tfidf = tf_idfvectorizer.fit_transform(ag_news_df.news_tokenized)"
      ]
    },
    {
      "cell_type": "code",
      "execution_count": 14,
      "metadata": {
        "id": "NzlAuf1oZlVN"
      },
      "outputs": [],
      "source": [
        "performance_metrics = pd.DataFrame(columns=['feature-extraction','run#', 'epoch', 'state', 'AMI','ARI','NMI'])"
      ]
    },
    {
      "cell_type": "code",
      "execution_count": 15,
      "metadata": {
        "colab": {
          "base_uri": "https://localhost:8080/"
        },
        "id": "bwXhqC1QZlVO",
        "outputId": "69fe07dd-0c4a-4135-f877-91dad63b24e4"
      },
      "outputs": [
        {
          "name": "stdout",
          "output_type": "stream",
          "text": [
            "Run # 1\n",
            "Run # 2\n",
            "Run # 3\n",
            "Run # 4\n",
            "Run # 5\n",
            "Run # 6\n",
            "Run # 7\n",
            "Run # 8\n",
            "Run # 9\n",
            "Run # 10\n"
          ]
        }
      ],
      "source": [
        "for run in range(1, 11, 1):\n",
        "    print('Run #', run)\n",
        "    for epoch, state in zip(range(25, 300, 15), range(2, 40, 2)):\n",
        "        k_means = KMeans(n_clusters=4, init='k-means++', max_iter=epoch, random_state=state)\n",
        "        k_means.fit(x_tfidf)\n",
        "        \n",
        "        ami = metrics.adjusted_mutual_info_score(ag_news_df['class'], k_means.labels_)\n",
        "        ari = metrics.adjusted_rand_score(ag_news_df['class'], k_means.labels_)\n",
        "        nmi = metrics.normalized_mutual_info_score(ag_news_df['class'], k_means.labels_)\n",
        "\n",
        "        # print(run, epoch, state)\n",
        "        \n",
        "        performance_metrics = performance_metrics.append({'feature-extraction':'tf-idf', 'run#':run, 'epoch':epoch, 'state':state, 'AMI':ami, 'ARI': ari, 'NMI':nmi}, ignore_index=True)"
      ]
    },
    {
      "cell_type": "code",
      "execution_count": 16,
      "metadata": {
        "colab": {
          "base_uri": "https://localhost:8080/",
          "height": 424
        },
        "id": "3-y8KZjvZlVO",
        "outputId": "d97a4bb5-dcc5-4b27-b35b-43ceb541c669"
      },
      "outputs": [
        {
          "data": {
            "text/html": [
              "<div>\n",
              "<style scoped>\n",
              "    .dataframe tbody tr th:only-of-type {\n",
              "        vertical-align: middle;\n",
              "    }\n",
              "\n",
              "    .dataframe tbody tr th {\n",
              "        vertical-align: top;\n",
              "    }\n",
              "\n",
              "    .dataframe thead th {\n",
              "        text-align: right;\n",
              "    }\n",
              "</style>\n",
              "<table border=\"1\" class=\"dataframe\">\n",
              "  <thead>\n",
              "    <tr style=\"text-align: right;\">\n",
              "      <th></th>\n",
              "      <th>feature-extraction</th>\n",
              "      <th>run#</th>\n",
              "      <th>epoch</th>\n",
              "      <th>state</th>\n",
              "      <th>AMI</th>\n",
              "      <th>ARI</th>\n",
              "      <th>NMI</th>\n",
              "    </tr>\n",
              "  </thead>\n",
              "  <tbody>\n",
              "    <tr>\n",
              "      <th>0</th>\n",
              "      <td>tf-idf</td>\n",
              "      <td>1</td>\n",
              "      <td>25</td>\n",
              "      <td>2</td>\n",
              "      <td>0.205560</td>\n",
              "      <td>0.134475</td>\n",
              "      <td>0.205585</td>\n",
              "    </tr>\n",
              "    <tr>\n",
              "      <th>1</th>\n",
              "      <td>tf-idf</td>\n",
              "      <td>1</td>\n",
              "      <td>40</td>\n",
              "      <td>4</td>\n",
              "      <td>0.229895</td>\n",
              "      <td>0.164062</td>\n",
              "      <td>0.229920</td>\n",
              "    </tr>\n",
              "    <tr>\n",
              "      <th>2</th>\n",
              "      <td>tf-idf</td>\n",
              "      <td>1</td>\n",
              "      <td>55</td>\n",
              "      <td>6</td>\n",
              "      <td>0.230795</td>\n",
              "      <td>0.165290</td>\n",
              "      <td>0.230819</td>\n",
              "    </tr>\n",
              "    <tr>\n",
              "      <th>3</th>\n",
              "      <td>tf-idf</td>\n",
              "      <td>1</td>\n",
              "      <td>70</td>\n",
              "      <td>8</td>\n",
              "      <td>0.301438</td>\n",
              "      <td>0.232790</td>\n",
              "      <td>0.301458</td>\n",
              "    </tr>\n",
              "    <tr>\n",
              "      <th>4</th>\n",
              "      <td>tf-idf</td>\n",
              "      <td>1</td>\n",
              "      <td>85</td>\n",
              "      <td>10</td>\n",
              "      <td>0.356919</td>\n",
              "      <td>0.266382</td>\n",
              "      <td>0.356937</td>\n",
              "    </tr>\n",
              "    <tr>\n",
              "      <th>...</th>\n",
              "      <td>...</td>\n",
              "      <td>...</td>\n",
              "      <td>...</td>\n",
              "      <td>...</td>\n",
              "      <td>...</td>\n",
              "      <td>...</td>\n",
              "      <td>...</td>\n",
              "    </tr>\n",
              "    <tr>\n",
              "      <th>185</th>\n",
              "      <td>tf-idf</td>\n",
              "      <td>10</td>\n",
              "      <td>235</td>\n",
              "      <td>30</td>\n",
              "      <td>0.235055</td>\n",
              "      <td>0.120214</td>\n",
              "      <td>0.235081</td>\n",
              "    </tr>\n",
              "    <tr>\n",
              "      <th>186</th>\n",
              "      <td>tf-idf</td>\n",
              "      <td>10</td>\n",
              "      <td>250</td>\n",
              "      <td>32</td>\n",
              "      <td>0.246248</td>\n",
              "      <td>0.137647</td>\n",
              "      <td>0.246272</td>\n",
              "    </tr>\n",
              "    <tr>\n",
              "      <th>187</th>\n",
              "      <td>tf-idf</td>\n",
              "      <td>10</td>\n",
              "      <td>265</td>\n",
              "      <td>34</td>\n",
              "      <td>0.230397</td>\n",
              "      <td>0.164805</td>\n",
              "      <td>0.230422</td>\n",
              "    </tr>\n",
              "    <tr>\n",
              "      <th>188</th>\n",
              "      <td>tf-idf</td>\n",
              "      <td>10</td>\n",
              "      <td>280</td>\n",
              "      <td>36</td>\n",
              "      <td>0.229908</td>\n",
              "      <td>0.164073</td>\n",
              "      <td>0.229933</td>\n",
              "    </tr>\n",
              "    <tr>\n",
              "      <th>189</th>\n",
              "      <td>tf-idf</td>\n",
              "      <td>10</td>\n",
              "      <td>295</td>\n",
              "      <td>38</td>\n",
              "      <td>0.229004</td>\n",
              "      <td>0.162888</td>\n",
              "      <td>0.229028</td>\n",
              "    </tr>\n",
              "  </tbody>\n",
              "</table>\n",
              "<p>190 rows × 7 columns</p>\n",
              "</div>"
            ],
            "text/plain": [
              "    feature-extraction run# epoch state       AMI       ARI       NMI\n",
              "0               tf-idf    1    25     2  0.205560  0.134475  0.205585\n",
              "1               tf-idf    1    40     4  0.229895  0.164062  0.229920\n",
              "2               tf-idf    1    55     6  0.230795  0.165290  0.230819\n",
              "3               tf-idf    1    70     8  0.301438  0.232790  0.301458\n",
              "4               tf-idf    1    85    10  0.356919  0.266382  0.356937\n",
              "..                 ...  ...   ...   ...       ...       ...       ...\n",
              "185             tf-idf   10   235    30  0.235055  0.120214  0.235081\n",
              "186             tf-idf   10   250    32  0.246248  0.137647  0.246272\n",
              "187             tf-idf   10   265    34  0.230397  0.164805  0.230422\n",
              "188             tf-idf   10   280    36  0.229908  0.164073  0.229933\n",
              "189             tf-idf   10   295    38  0.229004  0.162888  0.229028\n",
              "\n",
              "[190 rows x 7 columns]"
            ]
          },
          "execution_count": 16,
          "metadata": {},
          "output_type": "execute_result"
        }
      ],
      "source": [
        "performance_metrics"
      ]
    },
    {
      "cell_type": "code",
      "execution_count": 18,
      "metadata": {
        "id": "A_wol7cLsyyX"
      },
      "outputs": [],
      "source": [
        "performance_metrics.to_csv('performance_tfidf_kmeans.csv', index=False)"
      ]
    },
    {
      "cell_type": "code",
      "execution_count": 3,
      "metadata": {
        "id": "a3v5591gtFYG"
      },
      "outputs": [],
      "source": [
        "performance_metrics = pd.read_csv('../results/Finding optimal epochs/performance_tfidf_kmeans.csv')"
      ]
    },
    {
      "cell_type": "code",
      "execution_count": 24,
      "metadata": {},
      "outputs": [],
      "source": [
        "mean_performance = performance_metrics.groupby('epoch', as_index=False)[['AMI','ARI','NMI']].mean()"
      ]
    },
    {
      "cell_type": "code",
      "execution_count": 26,
      "metadata": {},
      "outputs": [],
      "source": [
        "mean_performance.to_csv('../results/Finding optimal epochs/mean_performance-tfidf_kmeans.csv', index=False)"
      ]
    },
    {
      "cell_type": "code",
      "execution_count": null,
      "metadata": {},
      "outputs": [],
      "source": []
    }
  ],
  "metadata": {
    "accelerator": "GPU",
    "colab": {
      "name": "AGNews.ipynb",
      "provenance": []
    },
    "interpreter": {
      "hash": "bda89cad9a35062bfe0e2c3265283126a05587ce658520b830e4f64500a7ea1e"
    },
    "kernelspec": {
      "display_name": "Python 3.8.5 64-bit",
      "language": "python",
      "name": "python3"
    },
    "language_info": {
      "codemirror_mode": {
        "name": "ipython",
        "version": 3
      },
      "file_extension": ".py",
      "mimetype": "text/x-python",
      "name": "python",
      "nbconvert_exporter": "python",
      "pygments_lexer": "ipython3",
      "version": "3.8.5"
    },
    "orig_nbformat": 4
  },
  "nbformat": 4,
  "nbformat_minor": 0
}
