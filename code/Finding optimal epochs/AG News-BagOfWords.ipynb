{
  "cells": [
    {
      "cell_type": "code",
      "execution_count": 5,
      "metadata": {
        "id": "MsJWGfGf6JZ0"
      },
      "outputs": [],
      "source": [
        "# !pip install gensim --upgrade -q"
      ]
    },
    {
      "cell_type": "code",
      "execution_count": 6,
      "metadata": {
        "execution": {
          "iopub.execute_input": "2021-12-08T18:34:27.730490Z",
          "iopub.status.busy": "2021-12-08T18:34:27.730002Z",
          "iopub.status.idle": "2021-12-08T18:34:31.156085Z",
          "shell.execute_reply": "2021-12-08T18:34:31.155054Z",
          "shell.execute_reply.started": "2021-12-08T18:34:27.730355Z"
        },
        "id": "ILML2COO3RLe",
        "trusted": true
      },
      "outputs": [],
      "source": [
        "import gensim\n",
        "import numpy as np\n",
        "import pandas as pd\n",
        "import plotly.express as px\n",
        "from sklearn.cluster import KMeans\n",
        "from sklearn.feature_extraction.text import TfidfVectorizer\n",
        "from sklearn import metrics\n",
        "from operator import itemgetter\n",
        "import tqdm\n",
        "import nltk\n",
        "import re\n",
        "import multiprocessing"
      ]
    },
    {
      "cell_type": "code",
      "execution_count": 7,
      "metadata": {
        "colab": {
          "base_uri": "https://localhost:8080/"
        },
        "execution": {
          "iopub.execute_input": "2021-12-08T18:34:31.158813Z",
          "iopub.status.busy": "2021-12-08T18:34:31.158533Z",
          "iopub.status.idle": "2021-12-08T18:34:31.371049Z",
          "shell.execute_reply": "2021-12-08T18:34:31.370135Z",
          "shell.execute_reply.started": "2021-12-08T18:34:31.158781Z"
        },
        "id": "5OUCIxSI3RLg",
        "outputId": "1a9e2dcb-2c9c-4d4c-daa2-af532285a20f",
        "trusted": true
      },
      "outputs": [
        {
          "name": "stderr",
          "output_type": "stream",
          "text": [
            "[nltk_data] Downloading package punkt to\n",
            "[nltk_data]     C:\\Users\\mbaxi\\AppData\\Roaming\\nltk_data...\n",
            "[nltk_data]   Package punkt is already up-to-date!\n",
            "[nltk_data] Downloading package wordnet to\n",
            "[nltk_data]     C:\\Users\\mbaxi\\AppData\\Roaming\\nltk_data...\n",
            "[nltk_data]   Package wordnet is already up-to-date!\n",
            "[nltk_data] Downloading package stopwords to\n",
            "[nltk_data]     C:\\Users\\mbaxi\\AppData\\Roaming\\nltk_data...\n",
            "[nltk_data]   Package stopwords is already up-to-date!\n"
          ]
        },
        {
          "data": {
            "text/plain": [
              "True"
            ]
          },
          "execution_count": 7,
          "metadata": {},
          "output_type": "execute_result"
        }
      ],
      "source": [
        "nltk.download('punkt')\n",
        "nltk.download('wordnet')\n",
        "nltk.download('stopwords')"
      ]
    },
    {
      "cell_type": "code",
      "execution_count": 8,
      "metadata": {
        "execution": {
          "iopub.execute_input": "2021-12-08T18:34:31.372898Z",
          "iopub.status.busy": "2021-12-08T18:34:31.372202Z",
          "iopub.status.idle": "2021-12-08T18:34:31.382134Z",
          "shell.execute_reply": "2021-12-08T18:34:31.381057Z",
          "shell.execute_reply.started": "2021-12-08T18:34:31.372857Z"
        },
        "id": "6WiV5Hsy3RLh",
        "trusted": true
      },
      "outputs": [],
      "source": [
        "def preprocess_text(sentence):\n",
        "    # Lowercase\n",
        "    sentence = sentence.lower()\n",
        "    \n",
        "    # Remove all non-alphabets (punctuation, numbers, new-line characters and extra-spaces)\n",
        "    sentence = re.sub(r'[^a-zA-Z]+', ' ', sentence)\n",
        "    sentence = sentence.replace('\\n', '')\n",
        "    # sentence = re.sub('\\s\\s+', ' ', sentence)\n",
        "    \n",
        "    # Tokenize & remove stop-words\n",
        "    word_list = nltk.word_tokenize(sentence)    \n",
        "    stopwords_list = set(nltk.corpus.stopwords.words('english'))\n",
        "    word_list = [word for word in word_list if word not in stopwords_list]\n",
        "    \n",
        "    # Remove very small words, length < 3, they don't contribute any useful information\n",
        "    word_list = [word for word in word_list if len(word) > 3]\n",
        "        \n",
        "    # Stem & Lemmatize\n",
        "    porter_stemmer = nltk.stem.PorterStemmer()\n",
        "    lemmatizer = nltk.stem.WordNetLemmatizer()\n",
        "    word_list = [porter_stemmer.stem(word) for word in word_list]\n",
        "    word_list = [lemmatizer.lemmatize(word) for word in word_list]\n",
        "    \n",
        "    sentence = ' '.join(word_list)\n",
        "    \n",
        "    return sentence"
      ]
    },
    {
      "cell_type": "markdown",
      "metadata": {
        "id": "X769XsCM3RLi"
      },
      "source": [
        "### Load Data"
      ]
    },
    {
      "cell_type": "code",
      "execution_count": 10,
      "metadata": {
        "execution": {
          "iopub.execute_input": "2021-12-08T18:34:31.383698Z",
          "iopub.status.busy": "2021-12-08T18:34:31.383371Z",
          "iopub.status.idle": "2021-12-08T18:34:32.272733Z",
          "shell.execute_reply": "2021-12-08T18:34:32.271854Z",
          "shell.execute_reply.started": "2021-12-08T18:34:31.383667Z"
        },
        "id": "B9bBDFD13RLj",
        "trusted": true
      },
      "outputs": [],
      "source": [
        "train_df = pd.read_csv('../../data/ag_news/train.csv')"
      ]
    },
    {
      "cell_type": "code",
      "execution_count": 11,
      "metadata": {
        "execution": {
          "iopub.execute_input": "2021-12-08T18:34:32.276171Z",
          "iopub.status.busy": "2021-12-08T18:34:32.275831Z",
          "iopub.status.idle": "2021-12-08T18:34:40.897939Z",
          "shell.execute_reply": "2021-12-08T18:34:40.896930Z",
          "shell.execute_reply.started": "2021-12-08T18:34:32.276127Z"
        },
        "id": "TwbCTZbN3RLj",
        "trusted": true
      },
      "outputs": [],
      "source": [
        "for index, row in train_df.iterrows():\n",
        "    if row['class'] == 1:\n",
        "        train_df.at[index, 'topic'] = 'World'\n",
        "    elif row['class'] == 2:\n",
        "        train_df.at[index, 'topic'] = 'Sports'\n",
        "    elif row['class'] == 3:\n",
        "        train_df.at[index, 'topic'] = 'Business'\n",
        "    else:\n",
        "        train_df.at[index, 'topic'] = 'Sci/Tech'"
      ]
    },
    {
      "cell_type": "code",
      "execution_count": 12,
      "metadata": {
        "colab": {
          "base_uri": "https://localhost:8080/"
        },
        "execution": {
          "iopub.execute_input": "2021-12-08T18:34:40.899349Z",
          "iopub.status.busy": "2021-12-08T18:34:40.899104Z",
          "iopub.status.idle": "2021-12-08T18:37:35.714831Z",
          "shell.execute_reply": "2021-12-08T18:37:35.713815Z",
          "shell.execute_reply.started": "2021-12-08T18:34:40.899320Z"
        },
        "id": "VquF5xG63RLj",
        "outputId": "f0652876-ff13-4cda-efce-db4328be7207",
        "trusted": true
      },
      "outputs": [
        {
          "name": "stderr",
          "output_type": "stream",
          "text": [
            "100%|██████████| 120000/120000 [01:48<00:00, 1108.53it/s]\n"
          ]
        }
      ],
      "source": [
        "# Preprocess the news description\n",
        "tqdm.tqdm.pandas()\n",
        "train_df['news_tokenized'] = train_df['description'].progress_apply(lambda x: preprocess_text(str(x)))"
      ]
    },
    {
      "cell_type": "markdown",
      "metadata": {
        "id": "MexCokdA3RLk"
      },
      "source": [
        "### Bag of Words"
      ]
    },
    {
      "cell_type": "code",
      "execution_count": 13,
      "metadata": {
        "execution": {
          "iopub.execute_input": "2021-12-08T18:37:36.110347Z",
          "iopub.status.busy": "2021-12-08T18:37:36.110039Z",
          "iopub.status.idle": "2021-12-08T18:44:27.286268Z",
          "shell.execute_reply": "2021-12-08T18:44:27.285275Z",
          "shell.execute_reply.started": "2021-12-08T18:37:36.110304Z"
        },
        "id": "B1j6tkbp3RLk",
        "trusted": true
      },
      "outputs": [],
      "source": [
        "train_documents = train_df['news_tokenized'].str.split()\n",
        "dictionary = gensim.corpora.Dictionary(train_documents)\n",
        "dictionary.filter_extremes(no_below=5, no_above=0.5, keep_n=20000)\n",
        "\n",
        "train_corpus = [dictionary.doc2bow(document) for document in train_documents]"
      ]
    },
    {
      "cell_type": "markdown",
      "metadata": {
        "id": "E0IO5meJ3RLl"
      },
      "source": [
        "### Find optimal epochs for NMF"
      ]
    },
    {
      "cell_type": "code",
      "execution_count": 14,
      "metadata": {
        "execution": {
          "iopub.execute_input": "2021-12-08T18:44:27.293343Z",
          "iopub.status.busy": "2021-12-08T18:44:27.292915Z",
          "iopub.status.idle": "2021-12-08T18:44:27.312101Z",
          "shell.execute_reply": "2021-12-08T18:44:27.311068Z",
          "shell.execute_reply.started": "2021-12-08T18:44:27.293313Z"
        },
        "id": "_x9thRsF3RLl",
        "trusted": true
      },
      "outputs": [],
      "source": [
        "performance_metrics = pd.DataFrame(columns=['feature-extraction','run#', 'epoch', 'state', 'AMI','ARI','NMI'])"
      ]
    },
    {
      "cell_type": "code",
      "execution_count": 15,
      "metadata": {
        "colab": {
          "base_uri": "https://localhost:8080/"
        },
        "execution": {
          "iopub.execute_input": "2021-12-08T18:44:27.313808Z",
          "iopub.status.busy": "2021-12-08T18:44:27.313545Z",
          "iopub.status.idle": "2021-12-08T19:52:41.118514Z",
          "shell.execute_reply": "2021-12-08T19:52:41.117744Z",
          "shell.execute_reply.started": "2021-12-08T18:44:27.313775Z"
        },
        "id": "ieG4jkXe3RLl",
        "outputId": "717eab38-cf0c-4447-d3bc-e09c90ce4fc3",
        "trusted": true
      },
      "outputs": [
        {
          "name": "stdout",
          "output_type": "stream",
          "text": [
            "Run # 1\n",
            "Run # 2\n"
          ]
        },
        {
          "ename": "KeyboardInterrupt",
          "evalue": "",
          "output_type": "error",
          "traceback": [
            "\u001b[1;31m---------------------------------------------------------------------------\u001b[0m",
            "\u001b[1;31mKeyboardInterrupt\u001b[0m                         Traceback (most recent call last)",
            "\u001b[1;32m~\\AppData\\Local\\Temp/ipykernel_3628/1426828294.py\u001b[0m in \u001b[0;36m<module>\u001b[1;34m\u001b[0m\n\u001b[0;32m      7\u001b[0m \u001b[1;33m\u001b[0m\u001b[0m\n\u001b[0;32m      8\u001b[0m         \u001b[1;32mfor\u001b[0m \u001b[0mtrain_doc\u001b[0m \u001b[1;32min\u001b[0m \u001b[0mtrain_corpus\u001b[0m\u001b[1;33m:\u001b[0m\u001b[1;33m\u001b[0m\u001b[1;33m\u001b[0m\u001b[0m\n\u001b[1;32m----> 9\u001b[1;33m             \u001b[0mpred_label\u001b[0m \u001b[1;33m=\u001b[0m \u001b[0mmax\u001b[0m\u001b[1;33m(\u001b[0m\u001b[0mgensim_nmf\u001b[0m\u001b[1;33m[\u001b[0m\u001b[0mtrain_doc\u001b[0m\u001b[1;33m]\u001b[0m\u001b[1;33m,\u001b[0m \u001b[0mkey\u001b[0m\u001b[1;33m=\u001b[0m\u001b[0mitemgetter\u001b[0m\u001b[1;33m(\u001b[0m\u001b[1;36m1\u001b[0m\u001b[1;33m)\u001b[0m\u001b[1;33m)\u001b[0m\u001b[1;33m[\u001b[0m\u001b[1;36m0\u001b[0m\u001b[1;33m]\u001b[0m\u001b[1;33m\u001b[0m\u001b[1;33m\u001b[0m\u001b[0m\n\u001b[0m\u001b[0;32m     10\u001b[0m             \u001b[0mpred_labels\u001b[0m\u001b[1;33m.\u001b[0m\u001b[0mappend\u001b[0m\u001b[1;33m(\u001b[0m\u001b[0mpred_label\u001b[0m\u001b[1;33m)\u001b[0m\u001b[1;33m\u001b[0m\u001b[1;33m\u001b[0m\u001b[0m\n\u001b[0;32m     11\u001b[0m \u001b[1;33m\u001b[0m\u001b[0m\n",
            "\u001b[1;32m~\\AppData\\Local\\Programs\\Python\\Python38\\lib\\site-packages\\gensim\\models\\nmf.py\u001b[0m in \u001b[0;36m__getitem__\u001b[1;34m(self, bow, eps)\u001b[0m\n\u001b[0;32m    242\u001b[0m \u001b[1;33m\u001b[0m\u001b[0m\n\u001b[0;32m    243\u001b[0m     \u001b[1;32mdef\u001b[0m \u001b[0m__getitem__\u001b[0m\u001b[1;33m(\u001b[0m\u001b[0mself\u001b[0m\u001b[1;33m,\u001b[0m \u001b[0mbow\u001b[0m\u001b[1;33m,\u001b[0m \u001b[0meps\u001b[0m\u001b[1;33m=\u001b[0m\u001b[1;32mNone\u001b[0m\u001b[1;33m)\u001b[0m\u001b[1;33m:\u001b[0m\u001b[1;33m\u001b[0m\u001b[1;33m\u001b[0m\u001b[0m\n\u001b[1;32m--> 244\u001b[1;33m         \u001b[1;32mreturn\u001b[0m \u001b[0mself\u001b[0m\u001b[1;33m.\u001b[0m\u001b[0mget_document_topics\u001b[0m\u001b[1;33m(\u001b[0m\u001b[0mbow\u001b[0m\u001b[1;33m,\u001b[0m \u001b[0meps\u001b[0m\u001b[1;33m)\u001b[0m\u001b[1;33m\u001b[0m\u001b[1;33m\u001b[0m\u001b[0m\n\u001b[0m\u001b[0;32m    245\u001b[0m \u001b[1;33m\u001b[0m\u001b[0m\n\u001b[0;32m    246\u001b[0m     \u001b[1;32mdef\u001b[0m \u001b[0mshow_topics\u001b[0m\u001b[1;33m(\u001b[0m\u001b[0mself\u001b[0m\u001b[1;33m,\u001b[0m \u001b[0mnum_topics\u001b[0m\u001b[1;33m=\u001b[0m\u001b[1;36m10\u001b[0m\u001b[1;33m,\u001b[0m \u001b[0mnum_words\u001b[0m\u001b[1;33m=\u001b[0m\u001b[1;36m10\u001b[0m\u001b[1;33m,\u001b[0m \u001b[0mlog\u001b[0m\u001b[1;33m=\u001b[0m\u001b[1;32mFalse\u001b[0m\u001b[1;33m,\u001b[0m \u001b[0mformatted\u001b[0m\u001b[1;33m=\u001b[0m\u001b[1;32mTrue\u001b[0m\u001b[1;33m,\u001b[0m \u001b[0mnormalize\u001b[0m\u001b[1;33m=\u001b[0m\u001b[1;32mNone\u001b[0m\u001b[1;33m)\u001b[0m\u001b[1;33m:\u001b[0m\u001b[1;33m\u001b[0m\u001b[1;33m\u001b[0m\u001b[0m\n",
            "\u001b[1;32m~\\AppData\\Local\\Programs\\Python\\Python38\\lib\\site-packages\\gensim\\models\\nmf.py\u001b[0m in \u001b[0;36mget_document_topics\u001b[1;34m(self, bow, minimum_probability, normalize)\u001b[0m\n\u001b[0;32m    503\u001b[0m \u001b[1;33m\u001b[0m\u001b[0m\n\u001b[0;32m    504\u001b[0m         \u001b[0mv\u001b[0m \u001b[1;33m=\u001b[0m \u001b[0mmatutils\u001b[0m\u001b[1;33m.\u001b[0m\u001b[0mcorpus2csc\u001b[0m\u001b[1;33m(\u001b[0m\u001b[1;33m[\u001b[0m\u001b[0mbow\u001b[0m\u001b[1;33m]\u001b[0m\u001b[1;33m,\u001b[0m \u001b[0mself\u001b[0m\u001b[1;33m.\u001b[0m\u001b[0mnum_tokens\u001b[0m\u001b[1;33m)\u001b[0m\u001b[1;33m\u001b[0m\u001b[1;33m\u001b[0m\u001b[0m\n\u001b[1;32m--> 505\u001b[1;33m         \u001b[0mh\u001b[0m \u001b[1;33m=\u001b[0m \u001b[0mself\u001b[0m\u001b[1;33m.\u001b[0m\u001b[0m_solveproj\u001b[0m\u001b[1;33m(\u001b[0m\u001b[0mv\u001b[0m\u001b[1;33m,\u001b[0m \u001b[0mself\u001b[0m\u001b[1;33m.\u001b[0m\u001b[0m_W\u001b[0m\u001b[1;33m,\u001b[0m \u001b[0mv_max\u001b[0m\u001b[1;33m=\u001b[0m\u001b[0mnp\u001b[0m\u001b[1;33m.\u001b[0m\u001b[0minf\u001b[0m\u001b[1;33m)\u001b[0m\u001b[1;33m\u001b[0m\u001b[1;33m\u001b[0m\u001b[0m\n\u001b[0m\u001b[0;32m    506\u001b[0m \u001b[1;33m\u001b[0m\u001b[0m\n\u001b[0;32m    507\u001b[0m         \u001b[1;32mif\u001b[0m \u001b[0mnormalize\u001b[0m \u001b[1;32mis\u001b[0m \u001b[1;32mNone\u001b[0m\u001b[1;33m:\u001b[0m\u001b[1;33m\u001b[0m\u001b[1;33m\u001b[0m\u001b[0m\n",
            "\u001b[1;32m~\\AppData\\Local\\Programs\\Python\\Python38\\lib\\site-packages\\gensim\\models\\nmf.py\u001b[0m in \u001b[0;36m_solveproj\u001b[1;34m(self, v, W, h, v_max)\u001b[0m\n\u001b[0;32m    761\u001b[0m \u001b[1;33m\u001b[0m\u001b[0m\n\u001b[0;32m    762\u001b[0m         \u001b[0mWt\u001b[0m \u001b[1;33m=\u001b[0m \u001b[0mW\u001b[0m\u001b[1;33m.\u001b[0m\u001b[0mT\u001b[0m\u001b[1;33m\u001b[0m\u001b[1;33m\u001b[0m\u001b[0m\n\u001b[1;32m--> 763\u001b[1;33m         \u001b[0mWtW\u001b[0m \u001b[1;33m=\u001b[0m \u001b[0mWt\u001b[0m\u001b[1;33m.\u001b[0m\u001b[0mdot\u001b[0m\u001b[1;33m(\u001b[0m\u001b[0mW\u001b[0m\u001b[1;33m)\u001b[0m\u001b[1;33m\u001b[0m\u001b[1;33m\u001b[0m\u001b[0m\n\u001b[0m\u001b[0;32m    764\u001b[0m \u001b[1;33m\u001b[0m\u001b[0m\n\u001b[0;32m    765\u001b[0m         \u001b[0mh_error\u001b[0m \u001b[1;33m=\u001b[0m \u001b[1;32mNone\u001b[0m\u001b[1;33m\u001b[0m\u001b[1;33m\u001b[0m\u001b[0m\n",
            "\u001b[1;31mKeyboardInterrupt\u001b[0m: "
          ]
        }
      ],
      "source": [
        "for run in range(1, 21, 1):\n",
        "    print('Run #', run)\n",
        "    for epoch, state in zip(range(25, 300, 15), range(2, 42, 2)):\n",
        "        pred_labels = []\n",
        "        gensim_nmf = gensim.models.Nmf(corpus=train_corpus, num_topics=4, id2word=dictionary, chunksize=1000, passes=epoch, eval_every=10, minimum_probability=0, \n",
        "                                   random_state=state, kappa=1)\n",
        "        \n",
        "        for train_doc in train_corpus:\n",
        "            pred_label = max(gensim_nmf[train_doc], key=itemgetter(1))[0]\n",
        "            pred_labels.append(pred_label)\n",
        "        \n",
        "        ami = metrics.adjusted_mutual_info_score(train_df['class'], pred_labels)\n",
        "        ari = metrics.adjusted_rand_score(train_df['class'], pred_labels)\n",
        "        nmi = metrics.normalized_mutual_info_score(train_df['class'], pred_labels)\n",
        "\n",
        "        # print(run, epoch, state)\n",
        "        \n",
        "        performance_metrics = performance_metrics.append({'feature-extraction':'Bag of Words', 'run#':run, 'epoch':epoch, 'state':state, 'AMI':'{:f}'.format(ami), 'ARI':'{:f}'.format(ari), 'NMI':'{:f}'.format(nmi)}, ignore_index=True)\n",
        "        break"
      ]
    },
    {
      "cell_type": "code",
      "execution_count": null,
      "metadata": {
        "execution": {
          "iopub.execute_input": "2021-12-08T19:53:25.124415Z",
          "iopub.status.busy": "2021-12-08T19:53:25.123866Z",
          "iopub.status.idle": "2021-12-08T19:53:25.132840Z",
          "shell.execute_reply": "2021-12-08T19:53:25.131783Z",
          "shell.execute_reply.started": "2021-12-08T19:53:25.124379Z"
        },
        "id": "XWUdau-Q3RLl",
        "trusted": true
      },
      "outputs": [],
      "source": [
        "performance_metrics.to_csv('performance-bow_nmf.csv', index=False)"
      ]
    },
    {
      "cell_type": "code",
      "execution_count": null,
      "metadata": {
        "id": "3BlOxdwsRBrk"
      },
      "outputs": [],
      "source": [
        "performance_metrics[['run#','epoch','state','AMI','ARI','NMI']] = performance_metrics[['run#','epoch','state','AMI','ARI','NMI']].apply(pd.to_numeric, errors='coerce')"
      ]
    },
    {
      "cell_type": "code",
      "execution_count": null,
      "metadata": {
        "colab": {
          "base_uri": "https://localhost:8080/"
        },
        "id": "IRmFBitNRZcY",
        "outputId": "8a770eeb-b812-4eac-fcf2-b4c970b9b6b9"
      },
      "outputs": [],
      "source": [
        "performance_metrics.dtypes"
      ]
    },
    {
      "cell_type": "code",
      "execution_count": null,
      "metadata": {
        "execution": {
          "iopub.execute_input": "2021-12-08T19:53:26.121271Z",
          "iopub.status.busy": "2021-12-08T19:53:26.120970Z",
          "iopub.status.idle": "2021-12-08T19:53:26.140783Z",
          "shell.execute_reply": "2021-12-08T19:53:26.139840Z",
          "shell.execute_reply.started": "2021-12-08T19:53:26.121239Z"
        },
        "id": "DbLDF-MP3RLm",
        "trusted": true
      },
      "outputs": [],
      "source": [
        "mean_performance = performance_metrics.groupby('epoch', as_index=False)[['AMI','ARI','NMI']].mean()"
      ]
    },
    {
      "cell_type": "code",
      "execution_count": null,
      "metadata": {
        "execution": {
          "iopub.execute_input": "2021-12-08T19:53:28.972666Z",
          "iopub.status.busy": "2021-12-08T19:53:28.972098Z",
          "iopub.status.idle": "2021-12-08T19:53:28.978481Z",
          "shell.execute_reply": "2021-12-08T19:53:28.977800Z",
          "shell.execute_reply.started": "2021-12-08T19:53:28.972617Z"
        },
        "id": "Pw5JpmlX3RLm",
        "trusted": true
      },
      "outputs": [],
      "source": [
        "mean_performance.to_csv('mean_performance-bow_nmf.csv', index=False)"
      ]
    },
    {
      "cell_type": "code",
      "execution_count": null,
      "metadata": {
        "id": "Lo7w871K3RLm"
      },
      "outputs": [],
      "source": []
    }
  ],
  "metadata": {
    "colab": {
      "name": "AG News-Doc2Vec.ipynb",
      "provenance": []
    },
    "kernelspec": {
      "display_name": "Python 3",
      "language": "python",
      "name": "python3"
    },
    "language_info": {
      "codemirror_mode": {
        "name": "ipython",
        "version": 3
      },
      "file_extension": ".py",
      "mimetype": "text/x-python",
      "name": "python",
      "nbconvert_exporter": "python",
      "pygments_lexer": "ipython3",
      "version": "3.8.5"
    }
  },
  "nbformat": 4,
  "nbformat_minor": 0
}
