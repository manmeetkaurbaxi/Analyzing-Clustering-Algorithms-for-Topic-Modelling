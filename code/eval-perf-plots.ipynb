{
 "cells": [
  {
   "cell_type": "code",
   "execution_count": 1,
   "metadata": {},
   "outputs": [],
   "source": [
    "import pandas as pd\n",
    "import matplotlib.pyplot as plt\n",
    "import seaborn as sns\n",
    "\n",
    "plt.style.use('seaborn')"
   ]
  },
  {
   "cell_type": "code",
   "execution_count": 2,
   "metadata": {},
   "outputs": [],
   "source": [
    "doc2vec = pd.read_csv('../results/Evaluating performance/evaluating_performance-doc2vec_kmeans.csv')\n",
    "sbert = pd.read_csv('../results/Evaluating performance/evaluating_performance-sbert.csv')\n",
    "tfidf = pd.read_csv('../results/Evaluating performance/evaluating_performance-tfidf.csv')\n",
    "bow = pd.read_csv('../results/Evaluating performance/evaluating_performance-bow.csv')"
   ]
  },
  {
   "cell_type": "code",
   "execution_count": 3,
   "metadata": {},
   "outputs": [],
   "source": [
    "mean_doc2vec = doc2vec.groupby('clustering-algo', as_index=False)[['AMI','ARI','NMI','time']].mean()\n",
    "mean_sbert = sbert.groupby('clustering-algo', as_index=False)[['AMI','ARI','NMI','time']].mean()\n",
    "mean_tfidf = tfidf.groupby('clustering-algo', as_index=False)[['AMI','ARI','NMI','time']].mean()\n",
    "mean_bow = bow.groupby('clustering-algo', as_index=False)[['AMI','ARI','NMI','time']].mean()"
   ]
  },
  {
   "cell_type": "code",
   "execution_count": 4,
   "metadata": {},
   "outputs": [],
   "source": [
    "mean_tfidf['embedding'] = 'TF-IDF'\n",
    "mean_sbert['embedding'] = 'Sentence BERT'\n",
    "mean_doc2vec['embedding'] = 'Doc2Vec'\n",
    "mean_bow['embedding'] = 'Bag Of Words'"
   ]
  },
  {
   "cell_type": "code",
   "execution_count": 8,
   "metadata": {},
   "outputs": [],
   "source": [
    "mean_perf = pd.concat([mean_doc2vec, mean_sbert, mean_tfidf, mean_bow], ignore_index=True)"
   ]
  },
  {
   "cell_type": "code",
   "execution_count": 9,
   "metadata": {},
   "outputs": [
    {
     "data": {
      "text/html": [
       "<div>\n",
       "<style scoped>\n",
       "    .dataframe tbody tr th:only-of-type {\n",
       "        vertical-align: middle;\n",
       "    }\n",
       "\n",
       "    .dataframe tbody tr th {\n",
       "        vertical-align: top;\n",
       "    }\n",
       "\n",
       "    .dataframe thead th {\n",
       "        text-align: right;\n",
       "    }\n",
       "</style>\n",
       "<table border=\"1\" class=\"dataframe\">\n",
       "  <thead>\n",
       "    <tr style=\"text-align: right;\">\n",
       "      <th></th>\n",
       "      <th>clustering-algo</th>\n",
       "      <th>AMI</th>\n",
       "      <th>ARI</th>\n",
       "      <th>NMI</th>\n",
       "      <th>time</th>\n",
       "      <th>embedding</th>\n",
       "    </tr>\n",
       "  </thead>\n",
       "  <tbody>\n",
       "    <tr>\n",
       "      <th>0</th>\n",
       "      <td>k-means</td>\n",
       "      <td>0.000070</td>\n",
       "      <td>0.000064</td>\n",
       "      <td>0.000498</td>\n",
       "      <td>13.107097</td>\n",
       "      <td>Doc2Vec</td>\n",
       "    </tr>\n",
       "    <tr>\n",
       "      <th>1</th>\n",
       "      <td>BERTopic</td>\n",
       "      <td>0.137070</td>\n",
       "      <td>0.064128</td>\n",
       "      <td>0.137593</td>\n",
       "      <td>497.073876</td>\n",
       "      <td>Sentence BERT</td>\n",
       "    </tr>\n",
       "    <tr>\n",
       "      <th>2</th>\n",
       "      <td>k-means</td>\n",
       "      <td>0.499055</td>\n",
       "      <td>0.519152</td>\n",
       "      <td>0.499270</td>\n",
       "      <td>42.013627</td>\n",
       "      <td>Sentence BERT</td>\n",
       "    </tr>\n",
       "    <tr>\n",
       "      <th>3</th>\n",
       "      <td>LDA</td>\n",
       "      <td>0.509607</td>\n",
       "      <td>0.527628</td>\n",
       "      <td>0.509818</td>\n",
       "      <td>2322.623555</td>\n",
       "      <td>TF-IDF</td>\n",
       "    </tr>\n",
       "    <tr>\n",
       "      <th>4</th>\n",
       "      <td>LSI</td>\n",
       "      <td>0.039898</td>\n",
       "      <td>0.001938</td>\n",
       "      <td>0.040358</td>\n",
       "      <td>26.359052</td>\n",
       "      <td>TF-IDF</td>\n",
       "    </tr>\n",
       "    <tr>\n",
       "      <th>5</th>\n",
       "      <td>NMF</td>\n",
       "      <td>0.402022</td>\n",
       "      <td>0.390923</td>\n",
       "      <td>0.402300</td>\n",
       "      <td>1072.171186</td>\n",
       "      <td>TF-IDF</td>\n",
       "    </tr>\n",
       "    <tr>\n",
       "      <th>6</th>\n",
       "      <td>k-means</td>\n",
       "      <td>0.227686</td>\n",
       "      <td>0.152854</td>\n",
       "      <td>0.228108</td>\n",
       "      <td>15.674190</td>\n",
       "      <td>TF-IDF</td>\n",
       "    </tr>\n",
       "    <tr>\n",
       "      <th>7</th>\n",
       "      <td>LDA</td>\n",
       "      <td>0.516904</td>\n",
       "      <td>0.530627</td>\n",
       "      <td>0.517112</td>\n",
       "      <td>1953.684424</td>\n",
       "      <td>Bag Of Words</td>\n",
       "    </tr>\n",
       "    <tr>\n",
       "      <th>8</th>\n",
       "      <td>LSI</td>\n",
       "      <td>0.208299</td>\n",
       "      <td>0.187384</td>\n",
       "      <td>0.208655</td>\n",
       "      <td>10.905951</td>\n",
       "      <td>Bag Of Words</td>\n",
       "    </tr>\n",
       "    <tr>\n",
       "      <th>9</th>\n",
       "      <td>NMF</td>\n",
       "      <td>0.172203</td>\n",
       "      <td>0.170421</td>\n",
       "      <td>0.172589</td>\n",
       "      <td>1719.952707</td>\n",
       "      <td>Bag Of Words</td>\n",
       "    </tr>\n",
       "  </tbody>\n",
       "</table>\n",
       "</div>"
      ],
      "text/plain": [
       "  clustering-algo       AMI       ARI       NMI         time      embedding\n",
       "0         k-means  0.000070  0.000064  0.000498    13.107097        Doc2Vec\n",
       "1        BERTopic  0.137070  0.064128  0.137593   497.073876  Sentence BERT\n",
       "2         k-means  0.499055  0.519152  0.499270    42.013627  Sentence BERT\n",
       "3             LDA  0.509607  0.527628  0.509818  2322.623555         TF-IDF\n",
       "4             LSI  0.039898  0.001938  0.040358    26.359052         TF-IDF\n",
       "5             NMF  0.402022  0.390923  0.402300  1072.171186         TF-IDF\n",
       "6         k-means  0.227686  0.152854  0.228108    15.674190         TF-IDF\n",
       "7             LDA  0.516904  0.530627  0.517112  1953.684424   Bag Of Words\n",
       "8             LSI  0.208299  0.187384  0.208655    10.905951   Bag Of Words\n",
       "9             NMF  0.172203  0.170421  0.172589  1719.952707   Bag Of Words"
      ]
     },
     "execution_count": 9,
     "metadata": {},
     "output_type": "execute_result"
    }
   ],
   "source": [
    "mean_perf"
   ]
  },
  {
   "cell_type": "code",
   "execution_count": 10,
   "metadata": {},
   "outputs": [
    {
     "data": {
      "text/html": [
       "<div>\n",
       "<style scoped>\n",
       "    .dataframe tbody tr th:only-of-type {\n",
       "        vertical-align: middle;\n",
       "    }\n",
       "\n",
       "    .dataframe tbody tr th {\n",
       "        vertical-align: top;\n",
       "    }\n",
       "\n",
       "    .dataframe thead th {\n",
       "        text-align: right;\n",
       "    }\n",
       "</style>\n",
       "<table border=\"1\" class=\"dataframe\">\n",
       "  <thead>\n",
       "    <tr style=\"text-align: right;\">\n",
       "      <th></th>\n",
       "      <th>clustering-algo</th>\n",
       "      <th>AMI</th>\n",
       "      <th>ARI</th>\n",
       "      <th>NMI</th>\n",
       "      <th>time</th>\n",
       "      <th>embedding</th>\n",
       "    </tr>\n",
       "  </thead>\n",
       "  <tbody>\n",
       "    <tr>\n",
       "      <th>7</th>\n",
       "      <td>LDA</td>\n",
       "      <td>0.516904</td>\n",
       "      <td>0.530627</td>\n",
       "      <td>0.517112</td>\n",
       "      <td>1953.684424</td>\n",
       "      <td>Bag Of Words</td>\n",
       "    </tr>\n",
       "    <tr>\n",
       "      <th>3</th>\n",
       "      <td>LDA</td>\n",
       "      <td>0.509607</td>\n",
       "      <td>0.527628</td>\n",
       "      <td>0.509818</td>\n",
       "      <td>2322.623555</td>\n",
       "      <td>TF-IDF</td>\n",
       "    </tr>\n",
       "    <tr>\n",
       "      <th>2</th>\n",
       "      <td>k-means</td>\n",
       "      <td>0.499055</td>\n",
       "      <td>0.519152</td>\n",
       "      <td>0.499270</td>\n",
       "      <td>42.013627</td>\n",
       "      <td>Sentence BERT</td>\n",
       "    </tr>\n",
       "  </tbody>\n",
       "</table>\n",
       "</div>"
      ],
      "text/plain": [
       "  clustering-algo       AMI       ARI       NMI         time      embedding\n",
       "7             LDA  0.516904  0.530627  0.517112  1953.684424   Bag Of Words\n",
       "3             LDA  0.509607  0.527628  0.509818  2322.623555         TF-IDF\n",
       "2         k-means  0.499055  0.519152  0.499270    42.013627  Sentence BERT"
      ]
     },
     "execution_count": 10,
     "metadata": {},
     "output_type": "execute_result"
    }
   ],
   "source": [
    "# View top-3 best performers\n",
    "mean_perf.nlargest(3,['AMI','ARI','NMI','time'])"
   ]
  },
  {
   "cell_type": "code",
   "execution_count": 11,
   "metadata": {},
   "outputs": [],
   "source": [
    "mean_perf.to_csv('../results/Evaluating performance/mean_performance.csv', index=False)"
   ]
  },
  {
   "cell_type": "code",
   "execution_count": null,
   "metadata": {},
   "outputs": [],
   "source": []
  }
 ],
 "metadata": {
  "interpreter": {
   "hash": "bda89cad9a35062bfe0e2c3265283126a05587ce658520b830e4f64500a7ea1e"
  },
  "kernelspec": {
   "display_name": "Python 3.8.5 64-bit",
   "language": "python",
   "name": "python3"
  },
  "language_info": {
   "codemirror_mode": {
    "name": "ipython",
    "version": 3
   },
   "file_extension": ".py",
   "mimetype": "text/x-python",
   "name": "python",
   "nbconvert_exporter": "python",
   "pygments_lexer": "ipython3",
   "version": "3.8.5"
  },
  "orig_nbformat": 4
 },
 "nbformat": 4,
 "nbformat_minor": 2
}
